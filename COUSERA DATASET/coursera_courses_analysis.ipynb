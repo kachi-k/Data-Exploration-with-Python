{
 "cells": [
  {
   "cell_type": "markdown",
   "id": "91d63121",
   "metadata": {},
   "source": [
    "## Prepare Data"
   ]
  },
  {
   "cell_type": "markdown",
   "id": "f93d9447",
   "metadata": {},
   "source": [
    "### import"
   ]
  },
  {
   "cell_type": "code",
   "execution_count": 1,
   "id": "5986cef7",
   "metadata": {},
   "outputs": [],
   "source": [
    "import pandas as pd\n",
    "import matplotlib.pyplot as plt\n",
    "import seaborn as sns\n",
    "\n",
    "import warnings\n",
    "warnings.filterwarnings('ignore')"
   ]
  },
  {
   "cell_type": "markdown",
   "id": "c516fb47",
   "metadata": {},
   "source": [
    "### Explore"
   ]
  },
  {
   "cell_type": "code",
   "execution_count": 2,
   "id": "e9517d6c",
   "metadata": {},
   "outputs": [
    {
     "name": "stdout",
     "output_type": "stream",
     "text": [
      "<class 'pandas.core.frame.DataFrame'>\n",
      "RangeIndex: 976 entries, 0 to 975\n",
      "Data columns (total 10 columns):\n",
      " #   Column                Non-Null Count  Dtype  \n",
      "---  ------                --------------  -----  \n",
      " 0   Unnamed: 0            976 non-null    int64  \n",
      " 1   url                   976 non-null    object \n",
      " 2   price                 950 non-null    object \n",
      " 3   institution           976 non-null    object \n",
      " 4   title                 976 non-null    object \n",
      " 5   skills you will gain  890 non-null    object \n",
      " 6   ratings               950 non-null    float64\n",
      " 7   reviews               950 non-null    object \n",
      " 8   level type duration   976 non-null    object \n",
      " 9   Unnamed: 9            270 non-null    object \n",
      "dtypes: float64(1), int64(1), object(8)\n",
      "memory usage: 76.4+ KB\n"
     ]
    },
    {
     "data": {
      "text/html": [
       "<div>\n",
       "<style scoped>\n",
       "    .dataframe tbody tr th:only-of-type {\n",
       "        vertical-align: middle;\n",
       "    }\n",
       "\n",
       "    .dataframe tbody tr th {\n",
       "        vertical-align: top;\n",
       "    }\n",
       "\n",
       "    .dataframe thead th {\n",
       "        text-align: right;\n",
       "    }\n",
       "</style>\n",
       "<table border=\"1\" class=\"dataframe\">\n",
       "  <thead>\n",
       "    <tr style=\"text-align: right;\">\n",
       "      <th></th>\n",
       "      <th>Unnamed: 0</th>\n",
       "      <th>url</th>\n",
       "      <th>price</th>\n",
       "      <th>institution</th>\n",
       "      <th>title</th>\n",
       "      <th>skills you will gain</th>\n",
       "      <th>ratings</th>\n",
       "      <th>reviews</th>\n",
       "      <th>level type duration</th>\n",
       "      <th>Unnamed: 9</th>\n",
       "    </tr>\n",
       "  </thead>\n",
       "  <tbody>\n",
       "    <tr>\n",
       "      <th>0</th>\n",
       "      <td>0</td>\n",
       "      <td>https://www.coursera.org/learn/indigenous-canada</td>\n",
       "      <td>Free</td>\n",
       "      <td>University of Alberta</td>\n",
       "      <td>Indigenous Canada</td>\n",
       "      <td>Business Psychology, Communication, History, E...</td>\n",
       "      <td>4.8</td>\n",
       "      <td>(18.8k reviews)</td>\n",
       "      <td>Mixed · Course · 1-3 Months</td>\n",
       "      <td>NaN</td>\n",
       "    </tr>\n",
       "    <tr>\n",
       "      <th>1</th>\n",
       "      <td>1</td>\n",
       "      <td>https://www.coursera.org/learn/financial-marke...</td>\n",
       "      <td>Free</td>\n",
       "      <td>Yale University</td>\n",
       "      <td>Financial Markets</td>\n",
       "      <td>Business Psychology, Data Analysis, Market (Ec...</td>\n",
       "      <td>4.8</td>\n",
       "      <td>(22.5k reviews)</td>\n",
       "      <td>Beginner · Course · 1-3 Months</td>\n",
       "      <td>NaN</td>\n",
       "    </tr>\n",
       "    <tr>\n",
       "      <th>2</th>\n",
       "      <td>2</td>\n",
       "      <td>https://www.coursera.org/learn/the-science-of-...</td>\n",
       "      <td>Free</td>\n",
       "      <td>Yale University</td>\n",
       "      <td>The Science of Well-Being</td>\n",
       "      <td>Gratitude, Meditation, Planning, Mindfulness</td>\n",
       "      <td>4.9</td>\n",
       "      <td>(33.4k reviews)</td>\n",
       "      <td>Mixed · Course · 1-3 Months</td>\n",
       "      <td>NaN</td>\n",
       "    </tr>\n",
       "    <tr>\n",
       "      <th>3</th>\n",
       "      <td>3</td>\n",
       "      <td>https://www.coursera.org/learn/sciwrite</td>\n",
       "      <td>Free</td>\n",
       "      <td>Stanford University</td>\n",
       "      <td>Writing in the Sciences</td>\n",
       "      <td>Writing, Communication</td>\n",
       "      <td>4.9</td>\n",
       "      <td>(6.6k reviews)</td>\n",
       "      <td>Beginner · Course · 1-3 Months</td>\n",
       "      <td>NaN</td>\n",
       "    </tr>\n",
       "    <tr>\n",
       "      <th>4</th>\n",
       "      <td>4</td>\n",
       "      <td>https://www.coursera.org/learn/introduction-ps...</td>\n",
       "      <td>Free</td>\n",
       "      <td>Yale University</td>\n",
       "      <td>Introduction to Psychology</td>\n",
       "      <td>Business Psychology, Psychology, Psychologies,...</td>\n",
       "      <td>4.9</td>\n",
       "      <td>(23.3k reviews)</td>\n",
       "      <td>Beginner · Course · 1-3 Months</td>\n",
       "      <td>NaN</td>\n",
       "    </tr>\n",
       "  </tbody>\n",
       "</table>\n",
       "</div>"
      ],
      "text/plain": [
       "   Unnamed: 0                                                url price  \\\n",
       "0           0   https://www.coursera.org/learn/indigenous-canada  Free   \n",
       "1           1  https://www.coursera.org/learn/financial-marke...  Free   \n",
       "2           2  https://www.coursera.org/learn/the-science-of-...  Free   \n",
       "3           3            https://www.coursera.org/learn/sciwrite  Free   \n",
       "4           4  https://www.coursera.org/learn/introduction-ps...  Free   \n",
       "\n",
       "             institution                       title  \\\n",
       "0  University of Alberta           Indigenous Canada   \n",
       "1        Yale University           Financial Markets   \n",
       "2        Yale University   The Science of Well-Being   \n",
       "3    Stanford University     Writing in the Sciences   \n",
       "4        Yale University  Introduction to Psychology   \n",
       "\n",
       "                                skills you will gain  ratings  \\\n",
       "0  Business Psychology, Communication, History, E...      4.8   \n",
       "1  Business Psychology, Data Analysis, Market (Ec...      4.8   \n",
       "2       Gratitude, Meditation, Planning, Mindfulness      4.9   \n",
       "3                             Writing, Communication      4.9   \n",
       "4  Business Psychology, Psychology, Psychologies,...      4.9   \n",
       "\n",
       "           reviews             level type duration Unnamed: 9  \n",
       "0  (18.8k reviews)     Mixed · Course · 1-3 Months        NaN  \n",
       "1  (22.5k reviews)  Beginner · Course · 1-3 Months        NaN  \n",
       "2  (33.4k reviews)     Mixed · Course · 1-3 Months        NaN  \n",
       "3   (6.6k reviews)  Beginner · Course · 1-3 Months        NaN  \n",
       "4  (23.3k reviews)  Beginner · Course · 1-3 Months        NaN  "
      ]
     },
     "execution_count": 2,
     "metadata": {},
     "output_type": "execute_result"
    }
   ],
   "source": [
    "# import dataset\n",
    "df = pd.read_csv('courserafree.csv')\n",
    "#view data info\n",
    "df.info()\n",
    "df.head()"
   ]
  },
  {
   "cell_type": "code",
   "execution_count": 3,
   "id": "ee4dae14",
   "metadata": {},
   "outputs": [],
   "source": [
    "#drops the listed columns\n",
    "df.drop(columns = ['Unnamed: 0', 'Unnamed: 9'], inplace = True)\n",
    "#drops all rows with null values\n",
    "df.dropna(inplace = True)"
   ]
  },
  {
   "cell_type": "markdown",
   "id": "869a1f1d-ab33-48fa-9548-9cd4696d7dcb",
   "metadata": {},
   "source": [
    "Columns Unnamed: 0 & Unnamed: 9 were removed as the information in them were of no value. Unnamed: 0 is a repetition of the already listed index, while Unnamed: 9 contains images for each course. it also has a lot of null values so it is better for it to be removed."
   ]
  },
  {
   "cell_type": "code",
   "execution_count": 4,
   "id": "9ca815e2",
   "metadata": {},
   "outputs": [],
   "source": [
    "## Data manipulation##\n",
    "df['Course_level'] = df['level type duration'].str.split('·', expand = True)[0] #selects first value of split\n",
    "df['Course_level'] = df['Course_level'] +' ' + 'course'\n",
    "\n",
    "df['Duration'] = df['level type duration'].str.split('·', expand = True)[2] #selects second value of split\n",
    "\n",
    "df['Reviews'] = df['reviews'].str.replace(\"(\", \"\").str.replace(\")\", \"\") # removes parentheses from review column\n",
    "\n",
    "df.drop(columns = ['level type duration', 'reviews'], inplace = True) # drops columns"
   ]
  },
  {
   "cell_type": "markdown",
   "id": "3dfaf119-8cd7-48ef-80e4-f8d1b3c9c802",
   "metadata": {},
   "source": [
    "From cell 2, **level type duration** contains two key details; the course level and the duration of the course. We would like to see them separatele, so we can make analysis with them.\n",
    "\n",
    "Also,for the **reviews** column, the parentheses were removed, to make the rows cleaner. Finally, the columns that are not needed were removed, giving"
   ]
  },
  {
   "cell_type": "code",
   "execution_count": 5,
   "id": "dbb62d79",
   "metadata": {},
   "outputs": [
    {
     "name": "stdout",
     "output_type": "stream",
     "text": [
      "1\n"
     ]
    }
   ],
   "source": [
    "print(df.price.nunique())# checks number of unique values\n",
    "df.drop(columns = 'price', inplace = True) # drops column"
   ]
  },
  {
   "cell_type": "markdown",
   "id": "6564e15f-3348-4d99-abdf-933dfb5c429b",
   "metadata": {},
   "source": [
    "Price has only one unique value and that is 'free', hence why it was removed."
   ]
  },
  {
   "cell_type": "code",
   "execution_count": 6,
   "id": "85b46679",
   "metadata": {},
   "outputs": [
    {
     "data": {
      "text/html": [
       "<div>\n",
       "<style scoped>\n",
       "    .dataframe tbody tr th:only-of-type {\n",
       "        vertical-align: middle;\n",
       "    }\n",
       "\n",
       "    .dataframe tbody tr th {\n",
       "        vertical-align: top;\n",
       "    }\n",
       "\n",
       "    .dataframe thead th {\n",
       "        text-align: right;\n",
       "    }\n",
       "</style>\n",
       "<table border=\"1\" class=\"dataframe\">\n",
       "  <thead>\n",
       "    <tr style=\"text-align: right;\">\n",
       "      <th></th>\n",
       "      <th>URL</th>\n",
       "      <th>Institution</th>\n",
       "      <th>Course_Title</th>\n",
       "      <th>Skills</th>\n",
       "      <th>Ratings</th>\n",
       "      <th>Course_level</th>\n",
       "      <th>Duration</th>\n",
       "      <th>Reviews</th>\n",
       "    </tr>\n",
       "  </thead>\n",
       "  <tbody>\n",
       "    <tr>\n",
       "      <th>0</th>\n",
       "      <td>https://www.coursera.org/learn/indigenous-canada</td>\n",
       "      <td>University of Alberta</td>\n",
       "      <td>Indigenous Canada</td>\n",
       "      <td>Business Psychology, Communication, History, E...</td>\n",
       "      <td>4.8</td>\n",
       "      <td>Mixed  course</td>\n",
       "      <td>1-3 Months</td>\n",
       "      <td>18.8k reviews</td>\n",
       "    </tr>\n",
       "    <tr>\n",
       "      <th>1</th>\n",
       "      <td>https://www.coursera.org/learn/financial-marke...</td>\n",
       "      <td>Yale University</td>\n",
       "      <td>Financial Markets</td>\n",
       "      <td>Business Psychology, Data Analysis, Market (Ec...</td>\n",
       "      <td>4.8</td>\n",
       "      <td>Beginner  course</td>\n",
       "      <td>1-3 Months</td>\n",
       "      <td>22.5k reviews</td>\n",
       "    </tr>\n",
       "    <tr>\n",
       "      <th>2</th>\n",
       "      <td>https://www.coursera.org/learn/the-science-of-...</td>\n",
       "      <td>Yale University</td>\n",
       "      <td>The Science of Well-Being</td>\n",
       "      <td>Gratitude, Meditation, Planning, Mindfulness</td>\n",
       "      <td>4.9</td>\n",
       "      <td>Mixed  course</td>\n",
       "      <td>1-3 Months</td>\n",
       "      <td>33.4k reviews</td>\n",
       "    </tr>\n",
       "    <tr>\n",
       "      <th>3</th>\n",
       "      <td>https://www.coursera.org/learn/sciwrite</td>\n",
       "      <td>Stanford University</td>\n",
       "      <td>Writing in the Sciences</td>\n",
       "      <td>Writing, Communication</td>\n",
       "      <td>4.9</td>\n",
       "      <td>Beginner  course</td>\n",
       "      <td>1-3 Months</td>\n",
       "      <td>6.6k reviews</td>\n",
       "    </tr>\n",
       "    <tr>\n",
       "      <th>4</th>\n",
       "      <td>https://www.coursera.org/learn/introduction-ps...</td>\n",
       "      <td>Yale University</td>\n",
       "      <td>Introduction to Psychology</td>\n",
       "      <td>Business Psychology, Psychology, Psychologies,...</td>\n",
       "      <td>4.9</td>\n",
       "      <td>Beginner  course</td>\n",
       "      <td>1-3 Months</td>\n",
       "      <td>23.3k reviews</td>\n",
       "    </tr>\n",
       "  </tbody>\n",
       "</table>\n",
       "</div>"
      ],
      "text/plain": [
       "                                                 URL            Institution  \\\n",
       "0   https://www.coursera.org/learn/indigenous-canada  University of Alberta   \n",
       "1  https://www.coursera.org/learn/financial-marke...        Yale University   \n",
       "2  https://www.coursera.org/learn/the-science-of-...        Yale University   \n",
       "3            https://www.coursera.org/learn/sciwrite    Stanford University   \n",
       "4  https://www.coursera.org/learn/introduction-ps...        Yale University   \n",
       "\n",
       "                 Course_Title  \\\n",
       "0           Indigenous Canada   \n",
       "1           Financial Markets   \n",
       "2   The Science of Well-Being   \n",
       "3     Writing in the Sciences   \n",
       "4  Introduction to Psychology   \n",
       "\n",
       "                                              Skills  Ratings  \\\n",
       "0  Business Psychology, Communication, History, E...      4.8   \n",
       "1  Business Psychology, Data Analysis, Market (Ec...      4.8   \n",
       "2       Gratitude, Meditation, Planning, Mindfulness      4.9   \n",
       "3                             Writing, Communication      4.9   \n",
       "4  Business Psychology, Psychology, Psychologies,...      4.9   \n",
       "\n",
       "       Course_level     Duration        Reviews  \n",
       "0     Mixed  course   1-3 Months  18.8k reviews  \n",
       "1  Beginner  course   1-3 Months  22.5k reviews  \n",
       "2     Mixed  course   1-3 Months  33.4k reviews  \n",
       "3  Beginner  course   1-3 Months   6.6k reviews  \n",
       "4  Beginner  course   1-3 Months  23.3k reviews  "
      ]
     },
     "execution_count": 6,
     "metadata": {},
     "output_type": "execute_result"
    }
   ],
   "source": [
    "# renames columns\n",
    "df.rename(columns = {'url': 'URL', 'institution': 'Institution', 'title':'Course_Title', 'skills you will gain': 'Skills', 'ratings': 'Ratings'}, inplace = True)\n",
    "df.head()"
   ]
  },
  {
   "cell_type": "markdown",
   "id": "1b9b5681-313e-4931-84d4-31fb18bb5434",
   "metadata": {},
   "source": [
    "So far, the following were performed on the dataset:\n",
    "\n",
    "1. Expanded and created new columns to give us more insight and to make the dataset easier to read.\n",
    "2. Removed unneccessary characters from columns\n",
    "3. Dropped columns that included repeated information as other columns and those with one unique value. Lastly,\n",
    "4. Renamed columns for uniformity and readability"
   ]
  },
  {
   "cell_type": "code",
   "execution_count": 7,
   "id": "e47a7b56",
   "metadata": {},
   "outputs": [],
   "source": [
    "# exporting the clean data to csv\n",
    "df.to_csv('Clean_cousera_dataset.csv', index=False)"
   ]
  },
  {
   "cell_type": "markdown",
   "id": "127f8323-1e80-41f5-831d-255ec4550fba",
   "metadata": {},
   "source": [
    "### Analysis"
   ]
  },
  {
   "cell_type": "code",
   "execution_count": 8,
   "id": "796b213c",
   "metadata": {},
   "outputs": [],
   "source": [
    "df1 = pd.read_csv('Clean_cousera_dataset.csv')"
   ]
  },
  {
   "cell_type": "code",
   "execution_count": 9,
   "id": "c3b33e51",
   "metadata": {},
   "outputs": [
    {
     "name": "stdout",
     "output_type": "stream",
     "text": [
      "<class 'pandas.core.frame.DataFrame'>\n",
      "RangeIndex: 858 entries, 0 to 857\n",
      "Data columns (total 8 columns):\n",
      " #   Column        Non-Null Count  Dtype  \n",
      "---  ------        --------------  -----  \n",
      " 0   URL           858 non-null    object \n",
      " 1   Institution   858 non-null    object \n",
      " 2   Course_Title  858 non-null    object \n",
      " 3   Skills        858 non-null    object \n",
      " 4   Ratings       858 non-null    float64\n",
      " 5   Course_level  858 non-null    object \n",
      " 6   Duration      858 non-null    object \n",
      " 7   Reviews       858 non-null    object \n",
      "dtypes: float64(1), object(7)\n",
      "memory usage: 53.8+ KB\n"
     ]
    }
   ],
   "source": [
    "df1.info()"
   ]
  },
  {
   "cell_type": "markdown",
   "id": "94582d42-a390-43b5-8a8d-0673dddc2502",
   "metadata": {},
   "source": [
    "### *Top 10 Instituitions offering free courses*"
   ]
  },
  {
   "cell_type": "code",
   "execution_count": 20,
   "id": "784cf3a1-5b30-4896-8ab6-aba532bedfcd",
   "metadata": {},
   "outputs": [
    {
     "data": {
      "image/png": "[encoded data removed]",
      "text/plain": [
       "<Figure size 1000x500 with 1 Axes>"
      ]
     },
     "metadata": {},
     "output_type": "display_data"
    }
   ],
   "source": [
    "df1['Institution'].value_counts().sort_values().tail(10).plot(\n",
    "    kind = 'barh', \n",
    "    color = 'blue',\n",
    "    xlabel = 'Institutions', \n",
    "    title = \"Top 10 Instituitions offering free courses\", figsize=(10,5), fontsize = 12);"
   ]
  },
  {
   "cell_type": "markdown",
   "id": "1c197419-13a4-427f-a632-eb07e25dd3b1",
   "metadata": {},
   "source": [
    "### *Most Rated Schools*"
   ]
  },
  {
   "cell_type": "code",
   "execution_count": 21,
   "id": "5d14b951-d7bf-481b-82de-94ffc74d462b",
   "metadata": {},
   "outputs": [
    {
     "data": {
      "image/png": "[encoded data removed]",
      "text/plain": [
       "<Figure size 1000x500 with 1 Axes>"
      ]
     },
     "metadata": {},
     "output_type": "display_data"
    }
   ],
   "source": [
    "(\n",
    "    df.groupby('Institution')['Ratings'].value_counts()\n",
    "    .sort_values()\n",
    "    .tail(10)\n",
    "    .plot(kind = 'barh', figsize = (10, 5), fontsize = 12)\n",
    ")\n",
    "      \n",
    "plt.xlabel('Institutions')\n",
    "plt.ylabel('Count')\n",
    "plt.title('Most Rated Schools');"
   ]
  },
  {
   "cell_type": "markdown",
   "id": "e88cc203-d175-4b62-8cfd-c71377bef61e",
   "metadata": {},
   "source": [
    "### *Distribution of Course_levels*"
   ]
  },
  {
   "cell_type": "code",
   "execution_count": 17,
   "id": "412f94f9",
   "metadata": {},
   "outputs": [
    {
     "data": {
      "image/png": "[encoded data removed]",
      "text/plain": [
       "<Figure size 1000x500 with 1 Axes>"
      ]
     },
     "metadata": {},
     "output_type": "display_data"
    }
   ],
   "source": [
    "df1['Course_level'].value_counts().plot(kind = 'bar',\n",
    "                                        xlabel = 'Course_count',\n",
    "                                        ylabel = 'Course_level',\n",
    "                                        title = 'Distribution of Course_levels',\n",
    "                                        fontsize = 12, \n",
    "                                        figsize = (10, 5));"
   ]
  },
  {
   "cell_type": "markdown",
   "id": "cf96bfff-db9b-4109-b95b-49cfb00ff176",
   "metadata": {},
   "source": [
    "### *Distribution of Course_level for Top 10 Universities*"
   ]
  },
  {
   "cell_type": "code",
   "execution_count": 13,
   "id": "307ae3d1-d455-46bd-8b9f-06a9fdcccc67",
   "metadata": {},
   "outputs": [],
   "source": [
    "import plotly.express as px"
   ]
  },
  {
   "cell_type": "code",
   "execution_count": 18,
   "id": "d2c856b3-b767-4e91-8b38-cd291589cc65",
   "metadata": {},
   "outputs": [],
   "source": [
    "top_unis = ['École Polytechnique Fédérale de Lausanne',\n",
    "            'University of London','Universiteit Leiden',\n",
    "            'Duke University','University of Michigan',\n",
    "            'Universitat Autònoma de Barcelona',\n",
    "            'University of Pennsylvania',\n",
    "            'Yale University',\n",
    "            'Universidad Nacional Autónoma de México',\n",
    "            'University of Geneva']\n",
    "mask = df1.Institution.isin(top_unis)\n",
    "df1 = df1[mask]"
   ]
  },
  {
   "cell_type": "code",
   "execution_count": 37,
   "id": "48f4c7ac-6368-48e6-8d08-51a4937f9d14",
   "metadata": {},
   "outputs": [
    {
     "data": {
      "application/vnd.plotly.v1+json": {
       "config": {
        "plotlyServerURL": "https://plot.ly"
       },
       "data": [
        {
         "alignmentgroup": "True",
         "hovertemplate": "Course_level=%{y}<br>Institution=%{x}<extra></extra>",
         "legendgroup": "Beginner  course",
         "marker": {
          "color": "#636efa",
          "pattern": {
           "shape": ""
          }
         },
         "name": "Beginner  course",
         "offsetgroup": "Beginner  course",
         "orientation": "v",
         "showlegend": true,
         "textposition": "auto",
         "type": "bar",
         "x": [
          "Yale University",
          "Yale University",
          "University of London",
          "Yale University",
          "Universidad Nacional Autónoma de México",
          "University of Pennsylvania",
          "University of London",
          "Duke University",
          "University of London",
          "Yale University",
          "University of Pennsylvania",
          "University of Pennsylvania",
          "Universiteit Leiden",
          "Universiteit Leiden",
          "Duke University",
          "University of Geneva",
          "University of London",
          "University of London",
          "Universiteit Leiden",
          "Yale University",
          "Yale University",
          "University of Michigan",
          "Yale University",
          "Duke University",
          "University of London",
          "University of Pennsylvania",
          "Duke University",
          "University of Pennsylvania",
          "Universidad Nacional Autónoma de México",
          "University of Pennsylvania",
          "Universitat Autònoma de Barcelona",
          "Universidad Nacional Autónoma de México",
          "University of Geneva",
          "Universiteit Leiden",
          "Universiteit Leiden",
          "Duke University",
          "Universidad Nacional Autónoma de México",
          "University of Geneva",
          "University of Michigan",
          "École Polytechnique Fédérale de Lausanne",
          "Yale University",
          "University of Pennsylvania",
          "École Polytechnique Fédérale de Lausanne",
          "University of Michigan",
          "Universitat Autònoma de Barcelona",
          "University of London",
          "University of Geneva",
          "Yale University",
          "Universiteit Leiden",
          "Universiteit Leiden",
          "University of London",
          "Universitat Autònoma de Barcelona",
          "University of Geneva",
          "Universidad Nacional Autónoma de México",
          "Yale University",
          "University of London",
          "Universidad Nacional Autónoma de México",
          "Yale University",
          "Yale University",
          "Universiteit Leiden",
          "University of London",
          "Universidad Nacional Autónoma de México",
          "University of Pennsylvania",
          "University of London",
          "Yale University",
          "University of Geneva",
          "École Polytechnique Fédérale de Lausanne",
          "Universitat Autònoma de Barcelona",
          "Universitat Autònoma de Barcelona",
          "Universitat Autònoma de Barcelona",
          "Duke University",
          "University of Pennsylvania",
          "University of London",
          "Universitat Autònoma de Barcelona",
          "University of Michigan",
          "Universitat Autònoma de Barcelona",
          "Universidad Nacional Autónoma de México",
          "University of London",
          "Universidad Nacional Autónoma de México",
          "Universitat Autònoma de Barcelona",
          "University of Michigan",
          "University of Michigan",
          "University of Geneva",
          "University of Geneva",
          "Universiteit Leiden",
          "Universitat Autònoma de Barcelona",
          "Universitat Autònoma de Barcelona",
          "University of Pennsylvania",
          "Universidad Nacional Autónoma de México",
          "Yale University",
          "Universidad Nacional Autónoma de México",
          "University of Geneva",
          "Universidad Nacional Autónoma de México",
          "Duke University",
          "Universiteit Leiden",
          "Duke University",
          "Universiteit Leiden",
          "University of Michigan",
          "Universitat Autònoma de Barcelona",
          "Universitat Autònoma de Barcelona",
          "Universiteit Leiden",
          "Universidad Nacional Autónoma de México",
          "École Polytechnique Fédérale de Lausanne",
          "Universitat Autònoma de Barcelona",
          "Universitat Autònoma de Barcelona",
          "Universitat Autònoma de Barcelona",
          "Universitat Autònoma de Barcelona",
          "Universidad Nacional Autónoma de México",
          "Universidad Nacional Autónoma de México",
          "Universidad Nacional Autónoma de México",
          "Universitat Autònoma de Barcelona",
          "Universidad Nacional Autónoma de México",
          "University of Pennsylvania",
          "Universitat Autònoma de Barcelona",
          "Universidad Nacional Autónoma de México",
          "Universidad Nacional Autónoma de México",
          "Universiteit Leiden",
          "University of London",
          "Universitat Autònoma de Barcelona",
          "Universidad Nacional Autónoma de México",
          "University of London",
          "École Polytechnique Fédérale de Lausanne",
          "Universitat Autònoma de Barcelona",
          "University of Geneva"
         ],
         "xaxis": "x",
         "y": [
          "Beginner  course",
          "Beginner  course",
          "Beginner  course",
          "Beginner  course",
          "Beginner  course",
          "Beginner  course",
          "Beginner  course",
          "Beginner  course",
          "Beginner  course",
          "Beginner  course",
          "Beginner  course",
          "Beginner  course",
          "Beginner  course",
          "Beginner  course",
          "Beginner  course",
          "Beginner  course",
          "Beginner  course",
          "Beginner  course",
          "Beginner  course",
          "Beginner  course",
          "Beginner  course",
          "Beginner  course",
          "Beginner  course",
          "Beginner  course",
          "Beginner  course",
          "Beginner  course",
          "Beginner  course",
          "Beginner  course",
          "Beginner  course",
          "Beginner  course",
          "Beginner  course",
          "Beginner  course",
          "Beginner  course",
          "Beginner  course",
          "Beginner  course",
          "Beginner  course",
          "Beginner  course",
          "Beginner  course",
          "Beginner  course",
          "Beginner  course",
          "Beginner  course",
          "Beginner  course",
          "Beginner  course",
          "Beginner  course",
          "Beginner  course",
          "Beginner  course",
          "Beginner  course",
          "Beginner  course",
          "Beginner  course",
          "Beginner  course",
          "Beginner  course",
          "Beginner  course",
          "Beginner  course",
          "Beginner  course",
          "Beginner  course",
          "Beginner  course",
          "Beginner  course",
          "Beginner  course",
          "Beginner  course",
          "Beginner  course",
          "Beginner  course",
          "Beginner  course",
          "Beginner  course",
          "Beginner  course",
          "Beginner  course",
          "Beginner  course",
          "Beginner  course",
          "Beginner  course",
          "Beginner  course",
          "Beginner  course",
          "Beginner  course",
          "Beginner  course",
          "Beginner  course",
          "Beginner  course",
          "Beginner  course",
          "Beginner  course",
          "Beginner  course",
          "Beginner  course",
          "Beginner  course",
          "Beginner  course",
          "Beginner  course",
          "Beginner  course",
          "Beginner  course",
          "Beginner  course",
          "Beginner  course",
          "Beginner  course",
          "Beginner  course",
          "Beginner  course",
          "Beginner  course",
          "Beginner  course",
          "Beginner  course",
          "Beginner  course",
          "Beginner  course",
          "Beginner  course",
          "Beginner  course",
          "Beginner  course",
          "Beginner  course",
          "Beginner  course",
          "Beginner  course",
          "Beginner  course",
          "Beginner  course",
          "Beginner  course",
          "Beginner  course",
          "Beginner  course",
          "Beginner  course",
          "Beginner  course",
          "Beginner  course",
          "Beginner  course",
          "Beginner  course",
          "Beginner  course",
          "Beginner  course",
          "Beginner  course",
          "Beginner  course",
          "Beginner  course",
          "Beginner  course",
          "Beginner  course",
          "Beginner  course",
          "Beginner  course",
          "Beginner  course",
          "Beginner  course",
          "Beginner  course",
          "Beginner  course",
          "Beginner  course",
          "Beginner  course"
         ],
         "yaxis": "y"
        },
        {
         "alignmentgroup": "True",
         "hovertemplate": "Course_level=%{y}<br>Institution=%{x}<extra></extra>",
         "legendgroup": "Mixed  course",
         "marker": {
          "color": "#EF553B",
          "pattern": {
           "shape": ""
          }
         },
         "name": "Mixed  course",
         "offsetgroup": "Mixed  course",
         "orientation": "v",
         "showlegend": true,
         "textposition": "auto",
         "type": "bar",
         "x": [
          "Yale University",
          "University of Michigan",
          "Duke University",
          "University of London",
          "University of London",
          "University of Pennsylvania",
          "University of Michigan",
          "University of London",
          "Duke University",
          "University of London",
          "Yale University",
          "Duke University",
          "Duke University",
          "Universiteit Leiden",
          "University of Pennsylvania",
          "University of Pennsylvania",
          "University of Michigan",
          "University of Pennsylvania",
          "Universiteit Leiden",
          "Yale University",
          "Yale University",
          "Yale University",
          "Yale University",
          "University of Geneva",
          "Universidad Nacional Autónoma de México",
          "University of Pennsylvania",
          "Duke University",
          "University of London",
          "Yale University",
          "Universiteit Leiden",
          "University of Michigan",
          "University of Pennsylvania",
          "University of Geneva",
          "University of Pennsylvania",
          "Duke University",
          "University of Geneva",
          "University of Pennsylvania",
          "University of Michigan",
          "Universidad Nacional Autónoma de México",
          "University of Geneva",
          "Duke University",
          "University of Pennsylvania",
          "University of Pennsylvania",
          "Universidad Nacional Autónoma de México",
          "Universidad Nacional Autónoma de México",
          "École Polytechnique Fédérale de Lausanne",
          "Universidad Nacional Autónoma de México",
          "Universiteit Leiden",
          "University of Michigan",
          "University of Pennsylvania",
          "Universitat Autònoma de Barcelona",
          "University of Michigan",
          "Duke University",
          "Yale University",
          "University of Geneva",
          "Duke University",
          "Duke University",
          "Universiteit Leiden",
          "Yale University",
          "University of Geneva",
          "University of Geneva",
          "Yale University",
          "Universitat Autònoma de Barcelona",
          "University of Michigan",
          "Universidad Nacional Autónoma de México",
          "École Polytechnique Fédérale de Lausanne",
          "Duke University",
          "Yale University",
          "University of Pennsylvania",
          "University of Michigan",
          "University of Michigan",
          "École Polytechnique Fédérale de Lausanne",
          "University of Geneva",
          "École Polytechnique Fédérale de Lausanne",
          "University of Michigan",
          "Duke University",
          "University of Geneva",
          "Duke University",
          "Universidad Nacional Autónoma de México"
         ],
         "xaxis": "x",
         "y": [
          "Mixed  course",
          "Mixed  course",
          "Mixed  course",
          "Mixed  course",
          "Mixed  course",
          "Mixed  course",
          "Mixed  course",
          "Mixed  course",
          "Mixed  course",
          "Mixed  course",
          "Mixed  course",
          "Mixed  course",
          "Mixed  course",
          "Mixed  course",
          "Mixed  course",
          "Mixed  course",
          "Mixed  course",
          "Mixed  course",
          "Mixed  course",
          "Mixed  course",
          "Mixed  course",
          "Mixed  course",
          "Mixed  course",
          "Mixed  course",
          "Mixed  course",
          "Mixed  course",
          "Mixed  course",
          "Mixed  course",
          "Mixed  course",
          "Mixed  course",
          "Mixed  course",
          "Mixed  course",
          "Mixed  course",
          "Mixed  course",
          "Mixed  course",
          "Mixed  course",
          "Mixed  course",
          "Mixed  course",
          "Mixed  course",
          "Mixed  course",
          "Mixed  course",
          "Mixed  course",
          "Mixed  course",
          "Mixed  course",
          "Mixed  course",
          "Mixed  course",
          "Mixed  course",
          "Mixed  course",
          "Mixed  course",
          "Mixed  course",
          "Mixed  course",
          "Mixed  course",
          "Mixed  course",
          "Mixed  course",
          "Mixed  course",
          "Mixed  course",
          "Mixed  course",
          "Mixed  course",
          "Mixed  course",
          "Mixed  course",
          "Mixed  course",
          "Mixed  course",
          "Mixed  course",
          "Mixed  course",
          "Mixed  course",
          "Mixed  course",
          "Mixed  course",
          "Mixed  course",
          "Mixed  course",
          "Mixed  course",
          "Mixed  course",
          "Mixed  course",
          "Mixed  course",
          "Mixed  course",
          "Mixed  course",
          "Mixed  course",
          "Mixed  course",
          "Mixed  course",
          "Mixed  course"
         ],
         "yaxis": "y"
        },
        {
         "alignmentgroup": "True",
         "hovertemplate": "Course_level=%{y}<br>Institution=%{x}<extra></extra>",
         "legendgroup": "Advanced  course",
         "marker": {
          "color": "#00cc96",
          "pattern": {
           "shape": ""
          }
         },
         "name": "Advanced  course",
         "offsetgroup": "Advanced  course",
         "orientation": "v",
         "showlegend": true,
         "textposition": "auto",
         "type": "bar",
         "x": [
          "Duke University",
          "University of Michigan",
          "University of Michigan",
          "École Polytechnique Fédérale de Lausanne"
         ],
         "xaxis": "x",
         "y": [
          "Advanced  course",
          "Advanced  course",
          "Advanced  course",
          "Advanced  course"
         ],
         "yaxis": "y"
        },
        {
         "alignmentgroup": "True",
         "hovertemplate": "Course_level=%{y}<br>Institution=%{x}<extra></extra>",
         "legendgroup": "Intermediate  course",
         "marker": {
          "color": "#ab63fa",
          "pattern": {
           "shape": ""
          }
         },
         "name": "Intermediate  course",
         "offsetgroup": "Intermediate  course",
         "orientation": "v",
         "showlegend": true,
         "textposition": "auto",
         "type": "bar",
         "x": [
          "University of Michigan",
          "University of Michigan",
          "University of Pennsylvania",
          "University of Pennsylvania",
          "Universiteit Leiden",
          "University of Geneva",
          "University of Geneva",
          "École Polytechnique Fédérale de Lausanne",
          "Yale University",
          "University of Geneva",
          "University of Pennsylvania",
          "Yale University",
          "University of Michigan",
          "University of Geneva",
          "Universiteit Leiden",
          "University of London",
          "University of Geneva",
          "Universiteit Leiden",
          "Duke University",
          "University of Geneva",
          "École Polytechnique Fédérale de Lausanne",
          "University of Geneva",
          "Universiteit Leiden",
          "Universitat Autònoma de Barcelona",
          "École Polytechnique Fédérale de Lausanne",
          "École Polytechnique Fédérale de Lausanne",
          "University of Geneva",
          "Universidad Nacional Autónoma de México",
          "Universidad Nacional Autónoma de México",
          "École Polytechnique Fédérale de Lausanne",
          "University of Michigan",
          "University of Geneva",
          "École Polytechnique Fédérale de Lausanne",
          "École Polytechnique Fédérale de Lausanne",
          "University of Geneva",
          "École Polytechnique Fédérale de Lausanne",
          "Universitat Autònoma de Barcelona",
          "École Polytechnique Fédérale de Lausanne",
          "École Polytechnique Fédérale de Lausanne",
          "École Polytechnique Fédérale de Lausanne"
         ],
         "xaxis": "x",
         "y": [
          "Intermediate  course",
          "Intermediate  course",
          "Intermediate  course",
          "Intermediate  course",
          "Intermediate  course",
          "Intermediate  course",
          "Intermediate  course",
          "Intermediate  course",
          "Intermediate  course",
          "Intermediate  course",
          "Intermediate  course",
          "Intermediate  course",
          "Intermediate  course",
          "Intermediate  course",
          "Intermediate  course",
          "Intermediate  course",
          "Intermediate  course",
          "Intermediate  course",
          "Intermediate  course",
          "Intermediate  course",
          "Intermediate  course",
          "Intermediate  course",
          "Intermediate  course",
          "Intermediate  course",
          "Intermediate  course",
          "Intermediate  course",
          "Intermediate  course",
          "Intermediate  course",
          "Intermediate  course",
          "Intermediate  course",
          "Intermediate  course",
          "Intermediate  course",
          "Intermediate  course",
          "Intermediate  course",
          "Intermediate  course",
          "Intermediate  course",
          "Intermediate  course",
          "Intermediate  course",
          "Intermediate  course",
          "Intermediate  course"
         ],
         "yaxis": "y"
        }
       ],
       "layout": {
        "barmode": "group",
        "height": 500,
        "legend": {
         "title": {
          "text": "Course_level"
         },
         "tracegroupgap": 0
        },
        "template": {
         "data": {
          "bar": [
           {
            "error_x": {
             "color": "#2a3f5f"
            },
            "error_y": {
             "color": "#2a3f5f"
            },
            "marker": {
             "line": {
              "color": "#E5ECF6",
              "width": 0.5
             },
             "pattern": {
              "fillmode": "overlay",
              "size": 10,
              "solidity": 0.2
             }
            },
            "type": "bar"
           }
          ],
          "barpolar": [
           {
            "marker": {
             "line": {
              "color": "#E5ECF6",
              "width": 0.5
             },
             "pattern": {
              "fillmode": "overlay",
              "size": 10,
              "solidity": 0.2
             }
            },
            "type": "barpolar"
           }
          ],
          "carpet": [
           {
            "aaxis": {
             "endlinecolor": "#2a3f5f",
             "gridcolor": "white",
             "linecolor": "white",
             "minorgridcolor": "white",
             "startlinecolor": "#2a3f5f"
            },
            "baxis": {
             "endlinecolor": "#2a3f5f",
             "gridcolor": "white",
             "linecolor": "white",
             "minorgridcolor": "white",
             "startlinecolor": "#2a3f5f"
            },
            "type": "carpet"
           }
          ],
          "choropleth": [
           {
            "colorbar": {
             "outlinewidth": 0,
             "ticks": ""
            },
            "type": "choropleth"
           }
          ],
          "contour": [
           {
            "colorbar": {
             "outlinewidth": 0,
             "ticks": ""
            },
            "colorscale": [
             [
              0,
              "#0d0887"
             ],
             [
              0.1111111111111111,
              "#46039f"
             ],
             [
              0.2222222222222222,
              "#7201a8"
             ],
             [
              0.3333333333333333,
              "#9c179e"
             ],
             [
              0.4444444444444444,
              "#bd3786"
             ],
             [
              0.5555555555555556,
              "#d8576b"
             ],
             [
              0.6666666666666666,
              "#ed7953"
             ],
             [
              0.7777777777777778,
              "#fb9f3a"
             ],
             [
              0.8888888888888888,
              "#fdca26"
             ],
             [
              1,
              "#f0f921"
             ]
            ],
            "type": "contour"
           }
          ],
          "contourcarpet": [
           {
            "colorbar": {
             "outlinewidth": 0,
             "ticks": ""
            },
            "type": "contourcarpet"
           }
          ],
          "heatmap": [
           {
            "colorbar": {
             "outlinewidth": 0,
             "ticks": ""
            },
            "colorscale": [
             [
              0,
              "#0d0887"
             ],
             [
              0.1111111111111111,
              "#46039f"
             ],
             [
              0.2222222222222222,
              "#7201a8"
             ],
             [
              0.3333333333333333,
              "#9c179e"
             ],
             [
              0.4444444444444444,
              "#bd3786"
             ],
             [
              0.5555555555555556,
              "#d8576b"
             ],
             [
              0.6666666666666666,
              "#ed7953"
             ],
             [
              0.7777777777777778,
              "#fb9f3a"
             ],
             [
              0.8888888888888888,
              "#fdca26"
             ],
             [
              1,
              "#f0f921"
             ]
            ],
            "type": "heatmap"
           }
          ],
          "heatmapgl": [
           {
            "colorbar": {
             "outlinewidth": 0,
             "ticks": ""
            },
            "colorscale": [
             [
              0,
              "#0d0887"
             ],
             [
              0.1111111111111111,
              "#46039f"
             ],
             [
              0.2222222222222222,
              "#7201a8"
             ],
             [
              0.3333333333333333,
              "#9c179e"
             ],
             [
              0.4444444444444444,
              "#bd3786"
             ],
             [
              0.5555555555555556,
              "#d8576b"
             ],
             [
              0.6666666666666666,
              "#ed7953"
             ],
             [
              0.7777777777777778,
              "#fb9f3a"
             ],
             [
              0.8888888888888888,
              "#fdca26"
             ],
             [
              1,
              "#f0f921"
             ]
            ],
            "type": "heatmapgl"
           }
          ],
          "histogram": [
           {
            "marker": {
             "pattern": {
              "fillmode": "overlay",
              "size": 10,
              "solidity": 0.2
             }
            },
            "type": "histogram"
           }
          ],
          "histogram2d": [
           {
            "colorbar": {
             "outlinewidth": 0,
             "ticks": ""
            },
            "colorscale": [
             [
              0,
              "#0d0887"
             ],
             [
              0.1111111111111111,
              "#46039f"
             ],
             [
              0.2222222222222222,
              "#7201a8"
             ],
             [
              0.3333333333333333,
              "#9c179e"
             ],
             [
              0.4444444444444444,
              "#bd3786"
             ],
             [
              0.5555555555555556,
              "#d8576b"
             ],
             [
              0.6666666666666666,
              "#ed7953"
             ],
             [
              0.7777777777777778,
              "#fb9f3a"
             ],
             [
              0.8888888888888888,
              "#fdca26"
             ],
             [
              1,
              "#f0f921"
             ]
            ],
            "type": "histogram2d"
           }
          ],
          "histogram2dcontour": [
           {
            "colorbar": {
             "outlinewidth": 0,
             "ticks": ""
            },
            "colorscale": [
             [
              0,
              "#0d0887"
             ],
             [
              0.1111111111111111,
              "#46039f"
             ],
             [
              0.2222222222222222,
              "#7201a8"
             ],
             [
              0.3333333333333333,
              "#9c179e"
             ],
             [
              0.4444444444444444,
              "#bd3786"
             ],
             [
              0.5555555555555556,
              "#d8576b"
             ],
             [
              0.6666666666666666,
              "#ed7953"
             ],
             [
              0.7777777777777778,
              "#fb9f3a"
             ],
             [
              0.8888888888888888,
              "#fdca26"
             ],
             [
              1,
              "#f0f921"
             ]
            ],
            "type": "histogram2dcontour"
           }
          ],
          "mesh3d": [
           {
            "colorbar": {
             "outlinewidth": 0,
             "ticks": ""
            },
            "type": "mesh3d"
           }
          ],
          "parcoords": [
           {
            "line": {
             "colorbar": {
              "outlinewidth": 0,
              "ticks": ""
             }
            },
            "type": "parcoords"
           }
          ],
          "pie": [
           {
            "automargin": true,
            "type": "pie"
           }
          ],
          "scatter": [
           {
            "fillpattern": {
             "fillmode": "overlay",
             "size": 10,
             "solidity": 0.2
            },
            "type": "scatter"
           }
          ],
          "scatter3d": [
           {
            "line": {
             "colorbar": {
              "outlinewidth": 0,
              "ticks": ""
             }
            },
            "marker": {
             "colorbar": {
              "outlinewidth": 0,
              "ticks": ""
             }
            },
            "type": "scatter3d"
           }
          ],
          "scattercarpet": [
           {
            "marker": {
             "colorbar": {
              "outlinewidth": 0,
              "ticks": ""
             }
            },
            "type": "scattercarpet"
           }
          ],
          "scattergeo": [
           {
            "marker": {
             "colorbar": {
              "outlinewidth": 0,
              "ticks": ""
             }
            },
            "type": "scattergeo"
           }
          ],
          "scattergl": [
           {
            "marker": {
             "colorbar": {
              "outlinewidth": 0,
              "ticks": ""
             }
            },
            "type": "scattergl"
           }
          ],
          "scattermapbox": [
           {
            "marker": {
             "colorbar": {
              "outlinewidth": 0,
              "ticks": ""
             }
            },
            "type": "scattermapbox"
           }
          ],
          "scatterpolar": [
           {
            "marker": {
             "colorbar": {
              "outlinewidth": 0,
              "ticks": ""
             }
            },
            "type": "scatterpolar"
           }
          ],
          "scatterpolargl": [
           {
            "marker": {
             "colorbar": {
              "outlinewidth": 0,
              "ticks": ""
             }
            },
            "type": "scatterpolargl"
           }
          ],
          "scatterternary": [
           {
            "marker": {
             "colorbar": {
              "outlinewidth": 0,
              "ticks": ""
             }
            },
            "type": "scatterternary"
           }
          ],
          "surface": [
           {
            "colorbar": {
             "outlinewidth": 0,
             "ticks": ""
            },
            "colorscale": [
             [
              0,
              "#0d0887"
             ],
             [
              0.1111111111111111,
              "#46039f"
             ],
             [
              0.2222222222222222,
              "#7201a8"
             ],
             [
              0.3333333333333333,
              "#9c179e"
             ],
             [
              0.4444444444444444,
              "#bd3786"
             ],
             [
              0.5555555555555556,
              "#d8576b"
             ],
             [
              0.6666666666666666,
              "#ed7953"
             ],
             [
              0.7777777777777778,
              "#fb9f3a"
             ],
             [
              0.8888888888888888,
              "#fdca26"
             ],
             [
              1,
              "#f0f921"
             ]
            ],
            "type": "surface"
           }
          ],
          "table": [
           {
            "cells": {
             "fill": {
              "color": "#EBF0F8"
             },
             "line": {
              "color": "white"
             }
            },
            "header": {
             "fill": {
              "color": "#C8D4E3"
             },
             "line": {
              "color": "white"
             }
            },
            "type": "table"
           }
          ]
         },
         "layout": {
          "annotationdefaults": {
           "arrowcolor": "#2a3f5f",
           "arrowhead": 0,
           "arrowwidth": 1
          },
          "autotypenumbers": "strict",
          "coloraxis": {
           "colorbar": {
            "outlinewidth": 0,
            "ticks": ""
           }
          },
          "colorscale": {
           "diverging": [
            [
             0,
             "#8e0152"
            ],
            [
             0.1,
             "#c51b7d"
            ],
            [
             0.2,
             "#de77ae"
            ],
            [
             0.3,
             "#f1b6da"
            ],
            [
             0.4,
             "#fde0ef"
            ],
            [
             0.5,
             "#f7f7f7"
            ],
            [
             0.6,
             "#e6f5d0"
            ],
            [
             0.7,
             "#b8e186"
            ],
            [
             0.8,
             "#7fbc41"
            ],
            [
             0.9,
             "#4d9221"
            ],
            [
             1,
             "#276419"
            ]
           ],
           "sequential": [
            [
             0,
             "#0d0887"
            ],
            [
             0.1111111111111111,
             "#46039f"
            ],
            [
             0.2222222222222222,
             "#7201a8"
            ],
            [
             0.3333333333333333,
             "#9c179e"
            ],
            [
             0.4444444444444444,
             "#bd3786"
            ],
            [
             0.5555555555555556,
             "#d8576b"
            ],
            [
             0.6666666666666666,
             "#ed7953"
            ],
            [
             0.7777777777777778,
             "#fb9f3a"
            ],
            [
             0.8888888888888888,
             "#fdca26"
            ],
            [
             1,
             "#f0f921"
            ]
           ],
           "sequentialminus": [
            [
             0,
             "#0d0887"
            ],
            [
             0.1111111111111111,
             "#46039f"
            ],
            [
             0.2222222222222222,
             "#7201a8"
            ],
            [
             0.3333333333333333,
             "#9c179e"
            ],
            [
             0.4444444444444444,
             "#bd3786"
            ],
            [
             0.5555555555555556,
             "#d8576b"
            ],
            [
             0.6666666666666666,
             "#ed7953"
            ],
            [
             0.7777777777777778,
             "#fb9f3a"
            ],
            [
             0.8888888888888888,
             "#fdca26"
            ],
            [
             1,
             "#f0f921"
            ]
           ]
          },
          "colorway": [
           "#636efa",
           "#EF553B",
           "#00cc96",
           "#ab63fa",
           "#FFA15A",
           "#19d3f3",
           "#FF6692",
           "#B6E880",
           "#FF97FF",
           "#FECB52"
          ],
          "font": {
           "color": "#2a3f5f"
          },
          "geo": {
           "bgcolor": "white",
           "lakecolor": "white",
           "landcolor": "#E5ECF6",
           "showlakes": true,
           "showland": true,
           "subunitcolor": "white"
          },
          "hoverlabel": {
           "align": "left"
          },
          "hovermode": "closest",
          "mapbox": {
           "style": "light"
          },
          "paper_bgcolor": "white",
          "plot_bgcolor": "#E5ECF6",
          "polar": {
           "angularaxis": {
            "gridcolor": "white",
            "linecolor": "white",
            "ticks": ""
           },
           "bgcolor": "#E5ECF6",
           "radialaxis": {
            "gridcolor": "white",
            "linecolor": "white",
            "ticks": ""
           }
          },
          "scene": {
           "xaxis": {
            "backgroundcolor": "#E5ECF6",
            "gridcolor": "white",
            "gridwidth": 2,
            "linecolor": "white",
            "showbackground": true,
            "ticks": "",
            "zerolinecolor": "white"
           },
           "yaxis": {
            "backgroundcolor": "#E5ECF6",
            "gridcolor": "white",
            "gridwidth": 2,
            "linecolor": "white",
            "showbackground": true,
            "ticks": "",
            "zerolinecolor": "white"
           },
           "zaxis": {
            "backgroundcolor": "#E5ECF6",
            "gridcolor": "white",
            "gridwidth": 2,
            "linecolor": "white",
            "showbackground": true,
            "ticks": "",
            "zerolinecolor": "white"
           }
          },
          "shapedefaults": {
           "line": {
            "color": "#2a3f5f"
           }
          },
          "ternary": {
           "aaxis": {
            "gridcolor": "white",
            "linecolor": "white",
            "ticks": ""
           },
           "baxis": {
            "gridcolor": "white",
            "linecolor": "white",
            "ticks": ""
           },
           "bgcolor": "#E5ECF6",
           "caxis": {
            "gridcolor": "white",
            "linecolor": "white",
            "ticks": ""
           }
          },
          "title": {
           "x": 0.05
          },
          "xaxis": {
           "automargin": true,
           "gridcolor": "white",
           "linecolor": "white",
           "ticks": "",
           "title": {
            "standoff": 15
           },
           "zerolinecolor": "white",
           "zerolinewidth": 2
          },
          "yaxis": {
           "automargin": true,
           "gridcolor": "white",
           "linecolor": "white",
           "ticks": "",
           "title": {
            "standoff": 15
           },
           "zerolinecolor": "white",
           "zerolinewidth": 2
          }
         }
        },
        "title": {
         "text": "Distribution of Course_level for Top 10 Universities"
        },
        "width": 1000,
        "xaxis": {
         "anchor": "y",
         "autorange": true,
         "domain": [
          0,
          1
         ],
         "range": [
          -0.5,
          9.5
         ],
         "title": {
          "text": "Institution"
         },
         "type": "category"
        },
        "yaxis": {
         "anchor": "x",
         "autorange": false,
         "categoryarray": [
          "Intermediate  course",
          "Advanced  course",
          "Mixed  course",
          "Beginner  course"
         ],
         "categoryorder": "array",
         "domain": [
          0,
          1
         ],
         "range": [
          -3.5,
          66.5
         ],
         "title": {
          "text": "Course_level"
         },
         "type": "category"
        }
       }
      },
      "image/png": "[encoded data removed]",
      "text/html": [
       "<div>                            <div id=\"9613cd22-e38b-4a17-8449-1943cb3777e9\" class=\"plotly-graph-div\" style=\"height:500px; width:1000px;\"></div>            <script type=\"text/javascript\">                require([\"plotly\"], function(Plotly) {                    window.PLOTLYENV=window.PLOTLYENV || {};                                    if (document.getElementById(\"9613cd22-e38b-4a17-8449-1943cb3777e9\")) {                    Plotly.newPlot(                        \"9613cd22-e38b-4a17-8449-1943cb3777e9\",                        [{\"alignmentgroup\":\"True\",\"hovertemplate\":\"Course_level=%{y}<br>Institution=%{x}<extra></extra>\",\"legendgroup\":\"Beginner  course\",\"marker\":{\"color\":\"#636efa\",\"pattern\":{\"shape\":\"\"}},\"name\":\"Beginner  course\",\"offsetgroup\":\"Beginner  course\",\"orientation\":\"v\",\"showlegend\":true,\"textposition\":\"auto\",\"x\":[\"Yale University\",\"Yale University\",\"University of London\",\"Yale University\",\"Universidad Nacional Aut\\u00f3noma de M\\u00e9xico\",\"University of Pennsylvania\",\"University of London\",\"Duke University\",\"University of London\",\"Yale University\",\"University of Pennsylvania\",\"University of Pennsylvania\",\"Universiteit Leiden\",\"Universiteit Leiden\",\"Duke University\",\"University of Geneva\",\"University of London\",\"University of London\",\"Universiteit Leiden\",\"Yale University\",\"Yale University\",\"University of Michigan\",\"Yale University\",\"Duke University\",\"University of London\",\"University of Pennsylvania\",\"Duke University\",\"University of Pennsylvania\",\"Universidad Nacional Aut\\u00f3noma de M\\u00e9xico\",\"University of Pennsylvania\",\"Universitat Aut\\u00f2noma de Barcelona\",\"Universidad Nacional Aut\\u00f3noma de M\\u00e9xico\",\"University of Geneva\",\"Universiteit Leiden\",\"Universiteit Leiden\",\"Duke University\",\"Universidad Nacional Aut\\u00f3noma de M\\u00e9xico\",\"University of Geneva\",\"University of Michigan\",\"\\u00c9cole Polytechnique F\\u00e9d\\u00e9rale de Lausanne\",\"Yale University\",\"University of Pennsylvania\",\"\\u00c9cole Polytechnique F\\u00e9d\\u00e9rale de Lausanne\",\"University of Michigan\",\"Universitat Aut\\u00f2noma de Barcelona\",\"University of London\",\"University of Geneva\",\"Yale University\",\"Universiteit Leiden\",\"Universiteit Leiden\",\"University of London\",\"Universitat Aut\\u00f2noma de Barcelona\",\"University of Geneva\",\"Universidad Nacional Aut\\u00f3noma de M\\u00e9xico\",\"Yale University\",\"University of London\",\"Universidad Nacional Aut\\u00f3noma de M\\u00e9xico\",\"Yale University\",\"Yale University\",\"Universiteit Leiden\",\"University of London\",\"Universidad Nacional Aut\\u00f3noma de M\\u00e9xico\",\"University of Pennsylvania\",\"University of London\",\"Yale University\",\"University of Geneva\",\"\\u00c9cole Polytechnique F\\u00e9d\\u00e9rale de Lausanne\",\"Universitat Aut\\u00f2noma de Barcelona\",\"Universitat Aut\\u00f2noma de Barcelona\",\"Universitat Aut\\u00f2noma de Barcelona\",\"Duke University\",\"University of Pennsylvania\",\"University of London\",\"Universitat Aut\\u00f2noma de Barcelona\",\"University of Michigan\",\"Universitat Aut\\u00f2noma de Barcelona\",\"Universidad Nacional Aut\\u00f3noma de M\\u00e9xico\",\"University of London\",\"Universidad Nacional Aut\\u00f3noma de M\\u00e9xico\",\"Universitat Aut\\u00f2noma de Barcelona\",\"University of Michigan\",\"University of Michigan\",\"University of Geneva\",\"University of Geneva\",\"Universiteit Leiden\",\"Universitat Aut\\u00f2noma de Barcelona\",\"Universitat Aut\\u00f2noma de Barcelona\",\"University of Pennsylvania\",\"Universidad Nacional Aut\\u00f3noma de M\\u00e9xico\",\"Yale University\",\"Universidad Nacional Aut\\u00f3noma de M\\u00e9xico\",\"University of Geneva\",\"Universidad Nacional Aut\\u00f3noma de M\\u00e9xico\",\"Duke University\",\"Universiteit Leiden\",\"Duke University\",\"Universiteit Leiden\",\"University of Michigan\",\"Universitat Aut\\u00f2noma de Barcelona\",\"Universitat Aut\\u00f2noma de Barcelona\",\"Universiteit Leiden\",\"Universidad Nacional Aut\\u00f3noma de M\\u00e9xico\",\"\\u00c9cole Polytechnique F\\u00e9d\\u00e9rale de Lausanne\",\"Universitat Aut\\u00f2noma de Barcelona\",\"Universitat Aut\\u00f2noma de Barcelona\",\"Universitat Aut\\u00f2noma de Barcelona\",\"Universitat Aut\\u00f2noma de Barcelona\",\"Universidad Nacional Aut\\u00f3noma de M\\u00e9xico\",\"Universidad Nacional Aut\\u00f3noma de M\\u00e9xico\",\"Universidad Nacional Aut\\u00f3noma de M\\u00e9xico\",\"Universitat Aut\\u00f2noma de Barcelona\",\"Universidad Nacional Aut\\u00f3noma de M\\u00e9xico\",\"University of Pennsylvania\",\"Universitat Aut\\u00f2noma de Barcelona\",\"Universidad Nacional Aut\\u00f3noma de M\\u00e9xico\",\"Universidad Nacional Aut\\u00f3noma de M\\u00e9xico\",\"Universiteit Leiden\",\"University of London\",\"Universitat Aut\\u00f2noma de Barcelona\",\"Universidad Nacional Aut\\u00f3noma de M\\u00e9xico\",\"University of London\",\"\\u00c9cole Polytechnique F\\u00e9d\\u00e9rale de Lausanne\",\"Universitat Aut\\u00f2noma de Barcelona\",\"University of Geneva\"],\"xaxis\":\"x\",\"y\":[\"Beginner  course\",\"Beginner  course\",\"Beginner  course\",\"Beginner  course\",\"Beginner  course\",\"Beginner  course\",\"Beginner  course\",\"Beginner  course\",\"Beginner  course\",\"Beginner  course\",\"Beginner  course\",\"Beginner  course\",\"Beginner  course\",\"Beginner  course\",\"Beginner  course\",\"Beginner  course\",\"Beginner  course\",\"Beginner  course\",\"Beginner  course\",\"Beginner  course\",\"Beginner  course\",\"Beginner  course\",\"Beginner  course\",\"Beginner  course\",\"Beginner  course\",\"Beginner  course\",\"Beginner  course\",\"Beginner  course\",\"Beginner  course\",\"Beginner  course\",\"Beginner  course\",\"Beginner  course\",\"Beginner  course\",\"Beginner  course\",\"Beginner  course\",\"Beginner  course\",\"Beginner  course\",\"Beginner  course\",\"Beginner  course\",\"Beginner  course\",\"Beginner  course\",\"Beginner  course\",\"Beginner  course\",\"Beginner  course\",\"Beginner  course\",\"Beginner  course\",\"Beginner  course\",\"Beginner  course\",\"Beginner  course\",\"Beginner  course\",\"Beginner  course\",\"Beginner  course\",\"Beginner  course\",\"Beginner  course\",\"Beginner  course\",\"Beginner  course\",\"Beginner  course\",\"Beginner  course\",\"Beginner  course\",\"Beginner  course\",\"Beginner  course\",\"Beginner  course\",\"Beginner  course\",\"Beginner  course\",\"Beginner  course\",\"Beginner  course\",\"Beginner  course\",\"Beginner  course\",\"Beginner  course\",\"Beginner  course\",\"Beginner  course\",\"Beginner  course\",\"Beginner  course\",\"Beginner  course\",\"Beginner  course\",\"Beginner  course\",\"Beginner  course\",\"Beginner  course\",\"Beginner  course\",\"Beginner  course\",\"Beginner  course\",\"Beginner  course\",\"Beginner  course\",\"Beginner  course\",\"Beginner  course\",\"Beginner  course\",\"Beginner  course\",\"Beginner  course\",\"Beginner  course\",\"Beginner  course\",\"Beginner  course\",\"Beginner  course\",\"Beginner  course\",\"Beginner  course\",\"Beginner  course\",\"Beginner  course\",\"Beginner  course\",\"Beginner  course\",\"Beginner  course\",\"Beginner  course\",\"Beginner  course\",\"Beginner  course\",\"Beginner  course\",\"Beginner  course\",\"Beginner  course\",\"Beginner  course\",\"Beginner  course\",\"Beginner  course\",\"Beginner  course\",\"Beginner  course\",\"Beginner  course\",\"Beginner  course\",\"Beginner  course\",\"Beginner  course\",\"Beginner  course\",\"Beginner  course\",\"Beginner  course\",\"Beginner  course\",\"Beginner  course\",\"Beginner  course\",\"Beginner  course\",\"Beginner  course\",\"Beginner  course\",\"Beginner  course\"],\"yaxis\":\"y\",\"type\":\"bar\"},{\"alignmentgroup\":\"True\",\"hovertemplate\":\"Course_level=%{y}<br>Institution=%{x}<extra></extra>\",\"legendgroup\":\"Mixed  course\",\"marker\":{\"color\":\"#EF553B\",\"pattern\":{\"shape\":\"\"}},\"name\":\"Mixed  course\",\"offsetgroup\":\"Mixed  course\",\"orientation\":\"v\",\"showlegend\":true,\"textposition\":\"auto\",\"x\":[\"Yale University\",\"University of Michigan\",\"Duke University\",\"University of London\",\"University of London\",\"University of Pennsylvania\",\"University of Michigan\",\"University of London\",\"Duke University\",\"University of London\",\"Yale University\",\"Duke University\",\"Duke University\",\"Universiteit Leiden\",\"University of Pennsylvania\",\"University of Pennsylvania\",\"University of Michigan\",\"University of Pennsylvania\",\"Universiteit Leiden\",\"Yale University\",\"Yale University\",\"Yale University\",\"Yale University\",\"University of Geneva\",\"Universidad Nacional Aut\\u00f3noma de M\\u00e9xico\",\"University of Pennsylvania\",\"Duke University\",\"University of London\",\"Yale University\",\"Universiteit Leiden\",\"University of Michigan\",\"University of Pennsylvania\",\"University of Geneva\",\"University of Pennsylvania\",\"Duke University\",\"University of Geneva\",\"University of Pennsylvania\",\"University of Michigan\",\"Universidad Nacional Aut\\u00f3noma de M\\u00e9xico\",\"University of Geneva\",\"Duke University\",\"University of Pennsylvania\",\"University of Pennsylvania\",\"Universidad Nacional Aut\\u00f3noma de M\\u00e9xico\",\"Universidad Nacional Aut\\u00f3noma de M\\u00e9xico\",\"\\u00c9cole Polytechnique F\\u00e9d\\u00e9rale de Lausanne\",\"Universidad Nacional Aut\\u00f3noma de M\\u00e9xico\",\"Universiteit Leiden\",\"University of Michigan\",\"University of Pennsylvania\",\"Universitat Aut\\u00f2noma de Barcelona\",\"University of Michigan\",\"Duke University\",\"Yale University\",\"University of Geneva\",\"Duke University\",\"Duke University\",\"Universiteit Leiden\",\"Yale University\",\"University of Geneva\",\"University of Geneva\",\"Yale University\",\"Universitat Aut\\u00f2noma de Barcelona\",\"University of Michigan\",\"Universidad Nacional Aut\\u00f3noma de M\\u00e9xico\",\"\\u00c9cole Polytechnique F\\u00e9d\\u00e9rale de Lausanne\",\"Duke University\",\"Yale University\",\"University of Pennsylvania\",\"University of Michigan\",\"University of Michigan\",\"\\u00c9cole Polytechnique F\\u00e9d\\u00e9rale de Lausanne\",\"University of Geneva\",\"\\u00c9cole Polytechnique F\\u00e9d\\u00e9rale de Lausanne\",\"University of Michigan\",\"Duke University\",\"University of Geneva\",\"Duke University\",\"Universidad Nacional Aut\\u00f3noma de M\\u00e9xico\"],\"xaxis\":\"x\",\"y\":[\"Mixed  course\",\"Mixed  course\",\"Mixed  course\",\"Mixed  course\",\"Mixed  course\",\"Mixed  course\",\"Mixed  course\",\"Mixed  course\",\"Mixed  course\",\"Mixed  course\",\"Mixed  course\",\"Mixed  course\",\"Mixed  course\",\"Mixed  course\",\"Mixed  course\",\"Mixed  course\",\"Mixed  course\",\"Mixed  course\",\"Mixed  course\",\"Mixed  course\",\"Mixed  course\",\"Mixed  course\",\"Mixed  course\",\"Mixed  course\",\"Mixed  course\",\"Mixed  course\",\"Mixed  course\",\"Mixed  course\",\"Mixed  course\",\"Mixed  course\",\"Mixed  course\",\"Mixed  course\",\"Mixed  course\",\"Mixed  course\",\"Mixed  course\",\"Mixed  course\",\"Mixed  course\",\"Mixed  course\",\"Mixed  course\",\"Mixed  course\",\"Mixed  course\",\"Mixed  course\",\"Mixed  course\",\"Mixed  course\",\"Mixed  course\",\"Mixed  course\",\"Mixed  course\",\"Mixed  course\",\"Mixed  course\",\"Mixed  course\",\"Mixed  course\",\"Mixed  course\",\"Mixed  course\",\"Mixed  course\",\"Mixed  course\",\"Mixed  course\",\"Mixed  course\",\"Mixed  course\",\"Mixed  course\",\"Mixed  course\",\"Mixed  course\",\"Mixed  course\",\"Mixed  course\",\"Mixed  course\",\"Mixed  course\",\"Mixed  course\",\"Mixed  course\",\"Mixed  course\",\"Mixed  course\",\"Mixed  course\",\"Mixed  course\",\"Mixed  course\",\"Mixed  course\",\"Mixed  course\",\"Mixed  course\",\"Mixed  course\",\"Mixed  course\",\"Mixed  course\",\"Mixed  course\"],\"yaxis\":\"y\",\"type\":\"bar\"},{\"alignmentgroup\":\"True\",\"hovertemplate\":\"Course_level=%{y}<br>Institution=%{x}<extra></extra>\",\"legendgroup\":\"Advanced  course\",\"marker\":{\"color\":\"#00cc96\",\"pattern\":{\"shape\":\"\"}},\"name\":\"Advanced  course\",\"offsetgroup\":\"Advanced  course\",\"orientation\":\"v\",\"showlegend\":true,\"textposition\":\"auto\",\"x\":[\"Duke University\",\"University of Michigan\",\"University of Michigan\",\"\\u00c9cole Polytechnique F\\u00e9d\\u00e9rale de Lausanne\"],\"xaxis\":\"x\",\"y\":[\"Advanced  course\",\"Advanced  course\",\"Advanced  course\",\"Advanced  course\"],\"yaxis\":\"y\",\"type\":\"bar\"},{\"alignmentgroup\":\"True\",\"hovertemplate\":\"Course_level=%{y}<br>Institution=%{x}<extra></extra>\",\"legendgroup\":\"Intermediate  course\",\"marker\":{\"color\":\"#ab63fa\",\"pattern\":{\"shape\":\"\"}},\"name\":\"Intermediate  course\",\"offsetgroup\":\"Intermediate  course\",\"orientation\":\"v\",\"showlegend\":true,\"textposition\":\"auto\",\"x\":[\"University of Michigan\",\"University of Michigan\",\"University of Pennsylvania\",\"University of Pennsylvania\",\"Universiteit Leiden\",\"University of Geneva\",\"University of Geneva\",\"\\u00c9cole Polytechnique F\\u00e9d\\u00e9rale de Lausanne\",\"Yale University\",\"University of Geneva\",\"University of Pennsylvania\",\"Yale University\",\"University of Michigan\",\"University of Geneva\",\"Universiteit Leiden\",\"University of London\",\"University of Geneva\",\"Universiteit Leiden\",\"Duke University\",\"University of Geneva\",\"\\u00c9cole Polytechnique F\\u00e9d\\u00e9rale de Lausanne\",\"University of Geneva\",\"Universiteit Leiden\",\"Universitat Aut\\u00f2noma de Barcelona\",\"\\u00c9cole Polytechnique F\\u00e9d\\u00e9rale de Lausanne\",\"\\u00c9cole Polytechnique F\\u00e9d\\u00e9rale de Lausanne\",\"University of Geneva\",\"Universidad Nacional Aut\\u00f3noma de M\\u00e9xico\",\"Universidad Nacional Aut\\u00f3noma de M\\u00e9xico\",\"\\u00c9cole Polytechnique F\\u00e9d\\u00e9rale de Lausanne\",\"University of Michigan\",\"University of Geneva\",\"\\u00c9cole Polytechnique F\\u00e9d\\u00e9rale de Lausanne\",\"\\u00c9cole Polytechnique F\\u00e9d\\u00e9rale de Lausanne\",\"University of Geneva\",\"\\u00c9cole Polytechnique F\\u00e9d\\u00e9rale de Lausanne\",\"Universitat Aut\\u00f2noma de Barcelona\",\"\\u00c9cole Polytechnique F\\u00e9d\\u00e9rale de Lausanne\",\"\\u00c9cole Polytechnique F\\u00e9d\\u00e9rale de Lausanne\",\"\\u00c9cole Polytechnique F\\u00e9d\\u00e9rale de Lausanne\"],\"xaxis\":\"x\",\"y\":[\"Intermediate  course\",\"Intermediate  course\",\"Intermediate  course\",\"Intermediate  course\",\"Intermediate  course\",\"Intermediate  course\",\"Intermediate  course\",\"Intermediate  course\",\"Intermediate  course\",\"Intermediate  course\",\"Intermediate  course\",\"Intermediate  course\",\"Intermediate  course\",\"Intermediate  course\",\"Intermediate  course\",\"Intermediate  course\",\"Intermediate  course\",\"Intermediate  course\",\"Intermediate  course\",\"Intermediate  course\",\"Intermediate  course\",\"Intermediate  course\",\"Intermediate  course\",\"Intermediate  course\",\"Intermediate  course\",\"Intermediate  course\",\"Intermediate  course\",\"Intermediate  course\",\"Intermediate  course\",\"Intermediate  course\",\"Intermediate  course\",\"Intermediate  course\",\"Intermediate  course\",\"Intermediate  course\",\"Intermediate  course\",\"Intermediate  course\",\"Intermediate  course\",\"Intermediate  course\",\"Intermediate  course\",\"Intermediate  course\"],\"yaxis\":\"y\",\"type\":\"bar\"}],                        {\"template\":{\"data\":{\"histogram2dcontour\":[{\"type\":\"histogram2dcontour\",\"colorbar\":{\"outlinewidth\":0,\"ticks\":\"\"},\"colorscale\":[[0.0,\"#0d0887\"],[0.1111111111111111,\"#46039f\"],[0.2222222222222222,\"#7201a8\"],[0.3333333333333333,\"#9c179e\"],[0.4444444444444444,\"#bd3786\"],[0.5555555555555556,\"#d8576b\"],[0.6666666666666666,\"#ed7953\"],[0.7777777777777778,\"#fb9f3a\"],[0.8888888888888888,\"#fdca26\"],[1.0,\"#f0f921\"]]}],\"choropleth\":[{\"type\":\"choropleth\",\"colorbar\":{\"outlinewidth\":0,\"ticks\":\"\"}}],\"histogram2d\":[{\"type\":\"histogram2d\",\"colorbar\":{\"outlinewidth\":0,\"ticks\":\"\"},\"colorscale\":[[0.0,\"#0d0887\"],[0.1111111111111111,\"#46039f\"],[0.2222222222222222,\"#7201a8\"],[0.3333333333333333,\"#9c179e\"],[0.4444444444444444,\"#bd3786\"],[0.5555555555555556,\"#d8576b\"],[0.6666666666666666,\"#ed7953\"],[0.7777777777777778,\"#fb9f3a\"],[0.8888888888888888,\"#fdca26\"],[1.0,\"#f0f921\"]]}],\"heatmap\":[{\"type\":\"heatmap\",\"colorbar\":{\"outlinewidth\":0,\"ticks\":\"\"},\"colorscale\":[[0.0,\"#0d0887\"],[0.1111111111111111,\"#46039f\"],[0.2222222222222222,\"#7201a8\"],[0.3333333333333333,\"#9c179e\"],[0.4444444444444444,\"#bd3786\"],[0.5555555555555556,\"#d8576b\"],[0.6666666666666666,\"#ed7953\"],[0.7777777777777778,\"#fb9f3a\"],[0.8888888888888888,\"#fdca26\"],[1.0,\"#f0f921\"]]}],\"heatmapgl\":[{\"type\":\"heatmapgl\",\"colorbar\":{\"outlinewidth\":0,\"ticks\":\"\"},\"colorscale\":[[0.0,\"#0d0887\"],[0.1111111111111111,\"#46039f\"],[0.2222222222222222,\"#7201a8\"],[0.3333333333333333,\"#9c179e\"],[0.4444444444444444,\"#bd3786\"],[0.5555555555555556,\"#d8576b\"],[0.6666666666666666,\"#ed7953\"],[0.7777777777777778,\"#fb9f3a\"],[0.8888888888888888,\"#fdca26\"],[1.0,\"#f0f921\"]]}],\"contourcarpet\":[{\"type\":\"contourcarpet\",\"colorbar\":{\"outlinewidth\":0,\"ticks\":\"\"}}],\"contour\":[{\"type\":\"contour\",\"colorbar\":{\"outlinewidth\":0,\"ticks\":\"\"},\"colorscale\":[[0.0,\"#0d0887\"],[0.1111111111111111,\"#46039f\"],[0.2222222222222222,\"#7201a8\"],[0.3333333333333333,\"#9c179e\"],[0.4444444444444444,\"#bd3786\"],[0.5555555555555556,\"#d8576b\"],[0.6666666666666666,\"#ed7953\"],[0.7777777777777778,\"#fb9f3a\"],[0.8888888888888888,\"#fdca26\"],[1.0,\"#f0f921\"]]}],\"surface\":[{\"type\":\"surface\",\"colorbar\":{\"outlinewidth\":0,\"ticks\":\"\"},\"colorscale\":[[0.0,\"#0d0887\"],[0.1111111111111111,\"#46039f\"],[0.2222222222222222,\"#7201a8\"],[0.3333333333333333,\"#9c179e\"],[0.4444444444444444,\"#bd3786\"],[0.5555555555555556,\"#d8576b\"],[0.6666666666666666,\"#ed7953\"],[0.7777777777777778,\"#fb9f3a\"],[0.8888888888888888,\"#fdca26\"],[1.0,\"#f0f921\"]]}],\"mesh3d\":[{\"type\":\"mesh3d\",\"colorbar\":{\"outlinewidth\":0,\"ticks\":\"\"}}],\"scatter\":[{\"fillpattern\":{\"fillmode\":\"overlay\",\"size\":10,\"solidity\":0.2},\"type\":\"scatter\"}],\"parcoords\":[{\"type\":\"parcoords\",\"line\":{\"colorbar\":{\"outlinewidth\":0,\"ticks\":\"\"}}}],\"scatterpolargl\":[{\"type\":\"scatterpolargl\",\"marker\":{\"colorbar\":{\"outlinewidth\":0,\"ticks\":\"\"}}}],\"bar\":[{\"error_x\":{\"color\":\"#2a3f5f\"},\"error_y\":{\"color\":\"#2a3f5f\"},\"marker\":{\"line\":{\"color\":\"#E5ECF6\",\"width\":0.5},\"pattern\":{\"fillmode\":\"overlay\",\"size\":10,\"solidity\":0.2}},\"type\":\"bar\"}],\"scattergeo\":[{\"type\":\"scattergeo\",\"marker\":{\"colorbar\":{\"outlinewidth\":0,\"ticks\":\"\"}}}],\"scatterpolar\":[{\"type\":\"scatterpolar\",\"marker\":{\"colorbar\":{\"outlinewidth\":0,\"ticks\":\"\"}}}],\"histogram\":[{\"marker\":{\"pattern\":{\"fillmode\":\"overlay\",\"size\":10,\"solidity\":0.2}},\"type\":\"histogram\"}],\"scattergl\":[{\"type\":\"scattergl\",\"marker\":{\"colorbar\":{\"outlinewidth\":0,\"ticks\":\"\"}}}],\"scatter3d\":[{\"type\":\"scatter3d\",\"line\":{\"colorbar\":{\"outlinewidth\":0,\"ticks\":\"\"}},\"marker\":{\"colorbar\":{\"outlinewidth\":0,\"ticks\":\"\"}}}],\"scattermapbox\":[{\"type\":\"scattermapbox\",\"marker\":{\"colorbar\":{\"outlinewidth\":0,\"ticks\":\"\"}}}],\"scatterternary\":[{\"type\":\"scatterternary\",\"marker\":{\"colorbar\":{\"outlinewidth\":0,\"ticks\":\"\"}}}],\"scattercarpet\":[{\"type\":\"scattercarpet\",\"marker\":{\"colorbar\":{\"outlinewidth\":0,\"ticks\":\"\"}}}],\"carpet\":[{\"aaxis\":{\"endlinecolor\":\"#2a3f5f\",\"gridcolor\":\"white\",\"linecolor\":\"white\",\"minorgridcolor\":\"white\",\"startlinecolor\":\"#2a3f5f\"},\"baxis\":{\"endlinecolor\":\"#2a3f5f\",\"gridcolor\":\"white\",\"linecolor\":\"white\",\"minorgridcolor\":\"white\",\"startlinecolor\":\"#2a3f5f\"},\"type\":\"carpet\"}],\"table\":[{\"cells\":{\"fill\":{\"color\":\"#EBF0F8\"},\"line\":{\"color\":\"white\"}},\"header\":{\"fill\":{\"color\":\"#C8D4E3\"},\"line\":{\"color\":\"white\"}},\"type\":\"table\"}],\"barpolar\":[{\"marker\":{\"line\":{\"color\":\"#E5ECF6\",\"width\":0.5},\"pattern\":{\"fillmode\":\"overlay\",\"size\":10,\"solidity\":0.2}},\"type\":\"barpolar\"}],\"pie\":[{\"automargin\":true,\"type\":\"pie\"}]},\"layout\":{\"autotypenumbers\":\"strict\",\"colorway\":[\"#636efa\",\"#EF553B\",\"#00cc96\",\"#ab63fa\",\"#FFA15A\",\"#19d3f3\",\"#FF6692\",\"#B6E880\",\"#FF97FF\",\"#FECB52\"],\"font\":{\"color\":\"#2a3f5f\"},\"hovermode\":\"closest\",\"hoverlabel\":{\"align\":\"left\"},\"paper_bgcolor\":\"white\",\"plot_bgcolor\":\"#E5ECF6\",\"polar\":{\"bgcolor\":\"#E5ECF6\",\"angularaxis\":{\"gridcolor\":\"white\",\"linecolor\":\"white\",\"ticks\":\"\"},\"radialaxis\":{\"gridcolor\":\"white\",\"linecolor\":\"white\",\"ticks\":\"\"}},\"ternary\":{\"bgcolor\":\"#E5ECF6\",\"aaxis\":{\"gridcolor\":\"white\",\"linecolor\":\"white\",\"ticks\":\"\"},\"baxis\":{\"gridcolor\":\"white\",\"linecolor\":\"white\",\"ticks\":\"\"},\"caxis\":{\"gridcolor\":\"white\",\"linecolor\":\"white\",\"ticks\":\"\"}},\"coloraxis\":{\"colorbar\":{\"outlinewidth\":0,\"ticks\":\"\"}},\"colorscale\":{\"sequential\":[[0.0,\"#0d0887\"],[0.1111111111111111,\"#46039f\"],[0.2222222222222222,\"#7201a8\"],[0.3333333333333333,\"#9c179e\"],[0.4444444444444444,\"#bd3786\"],[0.5555555555555556,\"#d8576b\"],[0.6666666666666666,\"#ed7953\"],[0.7777777777777778,\"#fb9f3a\"],[0.8888888888888888,\"#fdca26\"],[1.0,\"#f0f921\"]],\"sequentialminus\":[[0.0,\"#0d0887\"],[0.1111111111111111,\"#46039f\"],[0.2222222222222222,\"#7201a8\"],[0.3333333333333333,\"#9c179e\"],[0.4444444444444444,\"#bd3786\"],[0.5555555555555556,\"#d8576b\"],[0.6666666666666666,\"#ed7953\"],[0.7777777777777778,\"#fb9f3a\"],[0.8888888888888888,\"#fdca26\"],[1.0,\"#f0f921\"]],\"diverging\":[[0,\"#8e0152\"],[0.1,\"#c51b7d\"],[0.2,\"#de77ae\"],[0.3,\"#f1b6da\"],[0.4,\"#fde0ef\"],[0.5,\"#f7f7f7\"],[0.6,\"#e6f5d0\"],[0.7,\"#b8e186\"],[0.8,\"#7fbc41\"],[0.9,\"#4d9221\"],[1,\"#276419\"]]},\"xaxis\":{\"gridcolor\":\"white\",\"linecolor\":\"white\",\"ticks\":\"\",\"title\":{\"standoff\":15},\"zerolinecolor\":\"white\",\"automargin\":true,\"zerolinewidth\":2},\"yaxis\":{\"gridcolor\":\"white\",\"linecolor\":\"white\",\"ticks\":\"\",\"title\":{\"standoff\":15},\"zerolinecolor\":\"white\",\"automargin\":true,\"zerolinewidth\":2},\"scene\":{\"xaxis\":{\"backgroundcolor\":\"#E5ECF6\",\"gridcolor\":\"white\",\"linecolor\":\"white\",\"showbackground\":true,\"ticks\":\"\",\"zerolinecolor\":\"white\",\"gridwidth\":2},\"yaxis\":{\"backgroundcolor\":\"#E5ECF6\",\"gridcolor\":\"white\",\"linecolor\":\"white\",\"showbackground\":true,\"ticks\":\"\",\"zerolinecolor\":\"white\",\"gridwidth\":2},\"zaxis\":{\"backgroundcolor\":\"#E5ECF6\",\"gridcolor\":\"white\",\"linecolor\":\"white\",\"showbackground\":true,\"ticks\":\"\",\"zerolinecolor\":\"white\",\"gridwidth\":2}},\"shapedefaults\":{\"line\":{\"color\":\"#2a3f5f\"}},\"annotationdefaults\":{\"arrowcolor\":\"#2a3f5f\",\"arrowhead\":0,\"arrowwidth\":1},\"geo\":{\"bgcolor\":\"white\",\"landcolor\":\"#E5ECF6\",\"subunitcolor\":\"white\",\"showland\":true,\"showlakes\":true,\"lakecolor\":\"white\"},\"title\":{\"x\":0.05},\"mapbox\":{\"style\":\"light\"}}},\"xaxis\":{\"anchor\":\"y\",\"domain\":[0.0,1.0],\"title\":{\"text\":\"Institution\"}},\"yaxis\":{\"anchor\":\"x\",\"domain\":[0.0,1.0],\"title\":{\"text\":\"Course_level\"},\"categoryorder\":\"array\",\"categoryarray\":[\"Intermediate  course\",\"Advanced  course\",\"Mixed  course\",\"Beginner  course\"]},\"legend\":{\"title\":{\"text\":\"Course_level\"},\"tracegroupgap\":0},\"title\":{\"text\":\"Distribution of Course_level for Top 10 Universities\"},\"barmode\":\"group\",\"height\":500,\"width\":1000},                        {\"responsive\": true}                    ).then(function(){\n",
       "                            \n",
       "var gd = document.getElementById('9613cd22-e38b-4a17-8449-1943cb3777e9');\n",
       "var x = new MutationObserver(function (mutations, observer) {{\n",
       "        var display = window.getComputedStyle(gd).display;\n",
       "        if (!display || display === 'none') {{\n",
       "            console.log([gd, 'removed!']);\n",
       "            Plotly.purge(gd);\n",
       "            observer.disconnect();\n",
       "        }}\n",
       "}});\n",
       "\n",
       "// Listen for the removal of the full notebook cells\n",
       "var notebookContainer = gd.closest('#notebook-container');\n",
       "if (notebookContainer) {{\n",
       "    x.observe(notebookContainer, {childList: true});\n",
       "}}\n",
       "\n",
       "// Listen for the clearing of the current output cell\n",
       "var outputEl = gd.closest('.output');\n",
       "if (outputEl) {{\n",
       "    x.observe(outputEl, {childList: true});\n",
       "}}\n",
       "\n",
       "                        })                };                });            </script>        </div>"
      ]
     },
     "metadata": {},
     "output_type": "display_data"
    }
   ],
   "source": [
    "fig=px.bar(df1, \n",
    "           x = 'Institution', \n",
    "           y = 'Course_level', \n",
    "           color = 'Course_level',\n",
    "           barmode = 'group',\n",
    "           title = 'Distribution of Course_level for Top 10 Universities',\n",
    "           width=1000,\n",
    "           height=500 )\n",
    "fig.show()"
   ]
  },
  {
   "cell_type": "markdown",
   "id": "ca33a132-0a0c-4683-92bd-e4aecb27e0ee",
   "metadata": {},
   "source": [
    "### *Distribution of Duration*"
   ]
  },
  {
   "cell_type": "code",
   "execution_count": 27,
   "id": "e13f9429-5c1f-45b5-91a6-12149f13c052",
   "metadata": {},
   "outputs": [
    {
     "data": {
      "image/png": "[encoded data removed]",
      "text/plain": [
       "<Figure size 640x480 with 1 Axes>"
      ]
     },
     "metadata": {},
     "output_type": "display_data"
    }
   ],
   "source": [
    "sns.countplot(df1['Duration'].sort_values())\n",
    "plt.xlabel('Duration')\n",
    "plt.title('Distribution of Duration');"
   ]
  },
  {
   "cell_type": "markdown",
   "id": "d6d028c5-9fa6-42ae-acb9-8b4d183eb1ca",
   "metadata": {},
   "source": [
    "# Conclusion"
   ]
  },
  {
   "cell_type": "markdown",
   "id": "cc482f58-8530-4170-bbc6-427419d8162a",
   "metadata": {},
   "source": [
    "We started with a dataset with 976-rows and 10-cols. It constituted of (1) float64, (1) int64 and (8) object types. I proceeded to cleaning the and manipulation the data, which resulted to the new dataset **Clean_cousera_dataset.csv**. \n",
    "\n",
    "The new data now has, 858-rows, 8-cols. It has (1) float64, (7) object types. I then analysed the new data and explored the following:\n",
    "* Top 10 Instituitions offering free courses\n",
    "* Most Rated Schools\n",
    "* Distribution of Course_levels\n",
    "* Distribution of Course_level for Top 10 Universities\n",
    "* Distribution of Duration"
   ]
  }
 ],
 "metadata": {
  "kernelspec": {
   "display_name": "Python 3 (ipykernel)",
   "language": "python",
   "name": "python3"
  },
  "language_info": {
   "codemirror_mode": {
    "name": "ipython",
    "version": 3
   },
   "file_extension": ".py",
   "mimetype": "text/x-python",
   "name": "python",
   "nbconvert_exporter": "python",
   "pygments_lexer": "ipython3",
   "version": "3.8.13"
  }
 },
 "nbformat": 4,
 "nbformat_minor": 5
}
