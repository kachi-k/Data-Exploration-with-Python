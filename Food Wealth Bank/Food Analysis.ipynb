{
 "cells": [
  {
   "cell_type": "markdown",
   "id": "b06f69de",
   "metadata": {},
   "source": [
    "# Prepare Data"
   ]
  },
  {
   "cell_type": "markdown",
   "id": "c7716a39",
   "metadata": {},
   "source": [
    "### Import"
   ]
  },
  {
   "cell_type": "code",
   "execution_count": 1,
   "id": "88f01ee7",
   "metadata": {},
   "outputs": [],
   "source": [
    "from glob import glob\n",
    "\n",
    "import pandas as pd\n",
    "import warnings\n",
    "warnings.filterwarnings('ignore')\n",
    "\n",
    "# data visualisation\n",
    "import matplotlib.pyplot as plt\n",
    "import seaborn as sns\n",
    "import plotly.express as px\n",
    "\n",
    "#Transformers\n",
    "from sklearn.impute import SimpleImputer\n",
    "from sklearn.preprocessing import StandardScaler\n",
    "\n",
    "#Modeling\n",
    "from sklearn.model_selection import train_test_split\n",
    "from sklearn.linear_model import Ridge\n",
    "\n"
   ]
  },
  {
   "cell_type": "markdown",
   "id": "b4c0d56e",
   "metadata": {},
   "source": [
    "### Explore"
   ]
  },
  {
   "cell_type": "code",
   "execution_count": 2,
   "id": "65ae2875",
   "metadata": {},
   "outputs": [
    {
     "data": {
      "text/plain": [
       "['crop1.csv', 'food_data.csv', 'live1.csv', 'pop1.csv']"
      ]
     },
     "execution_count": 2,
     "metadata": {},
     "output_type": "execute_result"
    }
   ],
   "source": [
    "files = glob('*.csv') \n",
    "files"
   ]
  },
  {
   "cell_type": "code",
   "execution_count": 3,
   "id": "07d41ed2",
   "metadata": {},
   "outputs": [],
   "source": [
    "def wrangle(filepath, col):\n",
    "    '''\n",
    "    This function creates a subset of the original dataset\n",
    "    \n",
    "    input: Filepath for dataset \n",
    "    output: Returns subset \n",
    "    '''\n",
    "    df = pd.read_csv(filepath)\n",
    "    #subsetting for Nigeria only\n",
    "    mask_NIG = df[col] == 'Nigeria'\n",
    "    df = df[mask_NIG]\n",
    "    \n",
    "    return df"
   ]
  },
  {
   "cell_type": "code",
   "execution_count": 4,
   "id": "97726c69",
   "metadata": {},
   "outputs": [
    {
     "name": "stdout",
     "output_type": "stream",
     "text": [
      "(7795, 6)\n",
      "<class 'pandas.core.frame.DataFrame'>\n",
      "RangeIndex: 7795 entries, 0 to 7794\n",
      "Data columns (total 6 columns):\n",
      " #   Column   Non-Null Count  Dtype  \n",
      "---  ------   --------------  -----  \n",
      " 0   Area     7795 non-null   object \n",
      " 1   Item     7795 non-null   object \n",
      " 2   Element  7795 non-null   object \n",
      " 3   Year     7795 non-null   int64  \n",
      " 4   Unit     7795 non-null   object \n",
      " 5   Value    7641 non-null   float64\n",
      "dtypes: float64(1), int64(1), object(4)\n",
      "memory usage: 365.5+ KB\n"
     ]
    }
   ],
   "source": [
    "\n",
    "to_be_used = ['crop1.csv', 'live1.csv']\n",
    "\n",
    "frame = [wrangle(file, 'Area') for file in to_be_used]#list comprehension that calls function\n",
    "frame = pd.concat(frame, ignore_index= True)#concats both dataset\n",
    "print(frame.shape)\n",
    "frame.info()"
   ]
  },
  {
   "cell_type": "code",
   "execution_count": 5,
   "id": "9f05ee88-a2b4-47dd-8b8a-cd10903885e0",
   "metadata": {},
   "outputs": [
    {
     "data": {
      "text/plain": [
       "Area          1\n",
       "Item         52\n",
       "Element       4\n",
       "Year         60\n",
       "Unit          6\n",
       "Value      4762\n",
       "dtype: int64"
      ]
     },
     "execution_count": 5,
     "metadata": {},
     "output_type": "execute_result"
    }
   ],
   "source": [
    "frame.nunique()"
   ]
  },
  {
   "cell_type": "markdown",
   "id": "fd922925-9b6f-44ed-bfde-296dbb1e4c3a",
   "metadata": {},
   "source": [
    "**NOTE:** I would join both tables on the YEAR column."
   ]
  },
  {
   "cell_type": "code",
   "execution_count": 6,
   "id": "52dbef86",
   "metadata": {},
   "outputs": [
    {
     "data": {
      "text/html": [
       "<div>\n",
       "<style scoped>\n",
       "    .dataframe tbody tr th:only-of-type {\n",
       "        vertical-align: middle;\n",
       "    }\n",
       "\n",
       "    .dataframe tbody tr th {\n",
       "        vertical-align: top;\n",
       "    }\n",
       "\n",
       "    .dataframe thead th {\n",
       "        text-align: right;\n",
       "    }\n",
       "</style>\n",
       "<table border=\"1\" class=\"dataframe\">\n",
       "  <thead>\n",
       "    <tr style=\"text-align: right;\">\n",
       "      <th></th>\n",
       "      <th>Country Name</th>\n",
       "      <th>Country Code</th>\n",
       "      <th>1960</th>\n",
       "      <th>1961</th>\n",
       "      <th>1962</th>\n",
       "      <th>1963</th>\n",
       "      <th>1964</th>\n",
       "      <th>1965</th>\n",
       "      <th>1966</th>\n",
       "      <th>1967</th>\n",
       "      <th>...</th>\n",
       "      <th>2012</th>\n",
       "      <th>2013</th>\n",
       "      <th>2014</th>\n",
       "      <th>2015</th>\n",
       "      <th>2016</th>\n",
       "      <th>2017</th>\n",
       "      <th>2018</th>\n",
       "      <th>2019</th>\n",
       "      <th>2020</th>\n",
       "      <th>2021</th>\n",
       "    </tr>\n",
       "  </thead>\n",
       "  <tbody>\n",
       "    <tr>\n",
       "      <th>174</th>\n",
       "      <td>Nigeria</td>\n",
       "      <td>NGA</td>\n",
       "      <td>45138460.0</td>\n",
       "      <td>46063570.0</td>\n",
       "      <td>47029818.0</td>\n",
       "      <td>48032932.0</td>\n",
       "      <td>49066762.0</td>\n",
       "      <td>50127920.0</td>\n",
       "      <td>51217969.0</td>\n",
       "      <td>52342231.0</td>\n",
       "      <td>...</td>\n",
       "      <td>167228803.0</td>\n",
       "      <td>171765819.0</td>\n",
       "      <td>176404931.0</td>\n",
       "      <td>181137454.0</td>\n",
       "      <td>185960244.0</td>\n",
       "      <td>190873247.0</td>\n",
       "      <td>195874685.0</td>\n",
       "      <td>200963603.0</td>\n",
       "      <td>206139587.0</td>\n",
       "      <td>211400704.0</td>\n",
       "    </tr>\n",
       "  </tbody>\n",
       "</table>\n",
       "<p>1 rows × 64 columns</p>\n",
       "</div>"
      ],
      "text/plain": [
       "    Country Name Country Code        1960        1961        1962        1963  \\\n",
       "174      Nigeria          NGA  45138460.0  46063570.0  47029818.0  48032932.0   \n",
       "\n",
       "           1964        1965        1966        1967  ...         2012  \\\n",
       "174  49066762.0  50127920.0  51217969.0  52342231.0  ...  167228803.0   \n",
       "\n",
       "            2013         2014         2015         2016         2017  \\\n",
       "174  171765819.0  176404931.0  181137454.0  185960244.0  190873247.0   \n",
       "\n",
       "            2018         2019         2020         2021  \n",
       "174  195874685.0  200963603.0  206139587.0  211400704.0  \n",
       "\n",
       "[1 rows x 64 columns]"
      ]
     },
     "execution_count": 6,
     "metadata": {},
     "output_type": "execute_result"
    }
   ],
   "source": [
    "# creates a subset for NIGERIA\n",
    "NIG_pop = wrangle('pop1.csv', 'Country Name')\n",
    "NIG_pop"
   ]
  },
  {
   "cell_type": "markdown",
   "id": "602a1f5c-6227-4ac1-b5de-c7b653386a0f",
   "metadata": {},
   "source": [
    "I cannot concat this table with the frame table above and this is because, they have no columns in column. To that, I would first of all melt the table then merge both tables."
   ]
  },
  {
   "cell_type": "code",
   "execution_count": 7,
   "id": "c396109b-b36d-4b7a-b178-b3dc95f9a851",
   "metadata": {},
   "outputs": [],
   "source": [
    "NIG_pop= pd.melt(\n",
    "    NIG_pop,\n",
    "    id_vars=['Country Name', 'Country Code'],\n",
    "    var_name = 'Year',\n",
    "    value_name = 'Population size'\n",
    ")"
   ]
  },
  {
   "cell_type": "code",
   "execution_count": 8,
   "id": "a080dc2e-b311-46a6-9cd4-609839c1d65c",
   "metadata": {},
   "outputs": [
    {
     "name": "stdout",
     "output_type": "stream",
     "text": [
      "(62, 2)\n",
      "<class 'pandas.core.frame.DataFrame'>\n",
      "RangeIndex: 62 entries, 0 to 61\n",
      "Data columns (total 2 columns):\n",
      " #   Column           Non-Null Count  Dtype  \n",
      "---  ------           --------------  -----  \n",
      " 0   Year             62 non-null     object \n",
      " 1   Population size  62 non-null     float64\n",
      "dtypes: float64(1), object(1)\n",
      "memory usage: 1.1+ KB\n"
     ]
    }
   ],
   "source": [
    "NIG_pop.drop(columns = ['Country Code', 'Country Name'], inplace = True)\n",
    "print(NIG_pop.shape)\n",
    "NIG_pop.info()"
   ]
  },
  {
   "cell_type": "code",
   "execution_count": 9,
   "id": "ad6c6466-a69c-441b-a29f-31805011a5d7",
   "metadata": {},
   "outputs": [
    {
     "name": "stdout",
     "output_type": "stream",
     "text": [
      "<class 'pandas.core.frame.DataFrame'>\n",
      "RangeIndex: 62 entries, 0 to 61\n",
      "Data columns (total 2 columns):\n",
      " #   Column           Non-Null Count  Dtype  \n",
      "---  ------           --------------  -----  \n",
      " 0   Year             62 non-null     int64  \n",
      " 1   Population size  62 non-null     float64\n",
      "dtypes: float64(1), int64(1)\n",
      "memory usage: 1.1 KB\n"
     ]
    }
   ],
   "source": [
    "NIG_pop['Year'] = NIG_pop['Year'].astype('int64')\n",
    "NIG_pop.info()"
   ]
  },
  {
   "cell_type": "code",
   "execution_count": 25,
   "id": "713e01da-ac03-494c-b429-317ec4e9ba9f",
   "metadata": {},
   "outputs": [
    {
     "name": "stdout",
     "output_type": "stream",
     "text": [
      "(7795, 6)\n"
     ]
    },
    {
     "data": {
      "text/html": [
       "<div>\n",
       "<style scoped>\n",
       "    .dataframe tbody tr th:only-of-type {\n",
       "        vertical-align: middle;\n",
       "    }\n",
       "\n",
       "    .dataframe tbody tr th {\n",
       "        vertical-align: top;\n",
       "    }\n",
       "\n",
       "    .dataframe thead th {\n",
       "        text-align: right;\n",
       "    }\n",
       "</style>\n",
       "<table border=\"1\" class=\"dataframe\">\n",
       "  <thead>\n",
       "    <tr style=\"text-align: right;\">\n",
       "      <th></th>\n",
       "      <th>Area</th>\n",
       "      <th>Item</th>\n",
       "      <th>Element</th>\n",
       "      <th>Unit</th>\n",
       "      <th>Value</th>\n",
       "      <th>Population size</th>\n",
       "    </tr>\n",
       "    <tr>\n",
       "      <th>Year</th>\n",
       "      <th></th>\n",
       "      <th></th>\n",
       "      <th></th>\n",
       "      <th></th>\n",
       "      <th></th>\n",
       "      <th></th>\n",
       "    </tr>\n",
       "  </thead>\n",
       "  <tbody>\n",
       "    <tr>\n",
       "      <th>1981</th>\n",
       "      <td>Nigeria</td>\n",
       "      <td>Bastfibres, other</td>\n",
       "      <td>Area harvested</td>\n",
       "      <td>ha</td>\n",
       "      <td>1000.0</td>\n",
       "      <td>75440505.0</td>\n",
       "    </tr>\n",
       "    <tr>\n",
       "      <th>1981</th>\n",
       "      <td>Nigeria</td>\n",
       "      <td>Bastfibres, other</td>\n",
       "      <td>Yield</td>\n",
       "      <td>hg/ha</td>\n",
       "      <td>5300.0</td>\n",
       "      <td>75440505.0</td>\n",
       "    </tr>\n",
       "    <tr>\n",
       "      <th>1981</th>\n",
       "      <td>Nigeria</td>\n",
       "      <td>Bastfibres, other</td>\n",
       "      <td>Production</td>\n",
       "      <td>tonnes</td>\n",
       "      <td>530.0</td>\n",
       "      <td>75440505.0</td>\n",
       "    </tr>\n",
       "    <tr>\n",
       "      <th>1981</th>\n",
       "      <td>Nigeria</td>\n",
       "      <td>Carrots and turnips</td>\n",
       "      <td>Area harvested</td>\n",
       "      <td>ha</td>\n",
       "      <td>20000.0</td>\n",
       "      <td>75440505.0</td>\n",
       "    </tr>\n",
       "    <tr>\n",
       "      <th>1981</th>\n",
       "      <td>Nigeria</td>\n",
       "      <td>Carrots and turnips</td>\n",
       "      <td>Yield</td>\n",
       "      <td>hg/ha</td>\n",
       "      <td>75000.0</td>\n",
       "      <td>75440505.0</td>\n",
       "    </tr>\n",
       "  </tbody>\n",
       "</table>\n",
       "</div>"
      ],
      "text/plain": [
       "         Area                 Item         Element    Unit    Value  \\\n",
       "Year                                                                  \n",
       "1981  Nigeria    Bastfibres, other  Area harvested      ha   1000.0   \n",
       "1981  Nigeria    Bastfibres, other           Yield   hg/ha   5300.0   \n",
       "1981  Nigeria    Bastfibres, other      Production  tonnes    530.0   \n",
       "1981  Nigeria  Carrots and turnips  Area harvested      ha  20000.0   \n",
       "1981  Nigeria  Carrots and turnips           Yield   hg/ha  75000.0   \n",
       "\n",
       "      Population size  \n",
       "Year                   \n",
       "1981       75440505.0  \n",
       "1981       75440505.0  \n",
       "1981       75440505.0  \n",
       "1981       75440505.0  \n",
       "1981       75440505.0  "
      ]
     },
     "execution_count": 25,
     "metadata": {},
     "output_type": "execute_result"
    }
   ],
   "source": [
    "df = pd.merge(frame, NIG_pop, how = 'inner', on = 'Year')\n",
    "df = df.set_index('Year')\n",
    "print(df.shape)\n",
    "df.head()"
   ]
  },
  {
   "cell_type": "code",
   "execution_count": 26,
   "id": "c6134cd1-7bcd-4760-b223-4b150815847f",
   "metadata": {},
   "outputs": [],
   "source": [
    "df=df.drop(columns = 'Area', inplace = False)"
   ]
  },
  {
   "cell_type": "markdown",
   "id": "2018ca70-1dba-4344-9eef-2bafafeafd56",
   "metadata": {},
   "source": [
    "Removed the AREA columns because of its low cardinality; meaning it has just one unique value."
   ]
  },
  {
   "cell_type": "code",
   "execution_count": 27,
   "id": "cf08233c-e8c4-44fb-9638-0dea89253a23",
   "metadata": {},
   "outputs": [
    {
     "data": {
      "text/plain": [
       "Item                 52\n",
       "Element               4\n",
       "Unit                  6\n",
       "Value              4762\n",
       "Population size      60\n",
       "dtype: int64"
      ]
     },
     "execution_count": 27,
     "metadata": {},
     "output_type": "execute_result"
    }
   ],
   "source": [
    "df.nunique()"
   ]
  },
  {
   "cell_type": "code",
   "execution_count": 28,
   "id": "7ef74638-2cde-4baa-92f2-01fbd0c5b06f",
   "metadata": {},
   "outputs": [
    {
     "data": {
      "image/png": "[encoded data removed]",
      "text/plain": [
       "<Figure size 640x480 with 1 Axes>"
      ]
     },
     "metadata": {},
     "output_type": "display_data"
    }
   ],
   "source": [
    "df['Element'].value_counts().plot(\n",
    "    kind = 'bar', \n",
    "    xlabel = 'Gathering and Measuring meathod', \n",
    "    ylabel = 'count', title = 'Distribution of Elements')\n",
    "plt.xticks(rotation = 0);"
   ]
  },
  {
   "cell_type": "markdown",
   "id": "0d86b8b6-b042-4938-b5e5-44fbed104ea5",
   "metadata": {},
   "source": [
    "For crops, it can be identified that each crop is gathered and measured in three ways by production, crop yield, and area harvested. Each of these method of gathering and measurement have their own units of measurement. For production method it is meausred in tonnes, crop yield in hectogram (hg), and finally area is measured in hectares(ha).\n",
    "\n",
    "While animals are gathered in stocks and measured in Head."
   ]
  },
  {
   "cell_type": "code",
   "execution_count": 42,
   "id": "745889da-8bdb-4c94-811b-32c44e52ba74",
   "metadata": {},
   "outputs": [
    {
     "data": {
      "image/png": "[encoded data removed]",
      "text/plain": [
       "<Figure size 1500x600 with 1 Axes>"
      ]
     },
     "metadata": {},
     "output_type": "display_data"
    }
   ],
   "source": [
    "fig, ax = plt.subplots(figsize=(15, 6))\n",
    "df['Value'].plot(kind = 'box', vert=False);"
   ]
  },
  {
   "cell_type": "code",
   "execution_count": 41,
   "id": "edb01f9d-7e94-4920-af15-0616d05257df",
   "metadata": {},
   "outputs": [
    {
     "data": {
      "image/png": "[encoded data removed]",
      "text/plain": [
       "<Figure size 1500x600 with 1 Axes>"
      ]
     },
     "metadata": {},
     "output_type": "display_data"
    }
   ],
   "source": [
    "fig, ax = plt.subplots(figsize=(15, 6))\n",
    "df['Population size'].plot(kind = 'box', vert=False);"
   ]
  },
  {
   "cell_type": "code",
   "execution_count": 30,
   "id": "9d5b6d2b-3ffa-41ed-9772-7112b49be395",
   "metadata": {},
   "outputs": [],
   "source": [
    "df.to_csv('food_data.csv', index = False)"
   ]
  },
  {
   "cell_type": "code",
   "execution_count": null,
   "id": "0eefdd6b-751f-42fb-9323-2b9df13c5f58",
   "metadata": {},
   "outputs": [],
   "source": []
  },
  {
   "cell_type": "markdown",
   "id": "a567ed5b",
   "metadata": {},
   "source": [
    "### Split"
   ]
  },
  {
   "cell_type": "markdown",
   "id": "5c12c648",
   "metadata": {},
   "source": [
    "# Build Model"
   ]
  },
  {
   "cell_type": "markdown",
   "id": "62c913ed",
   "metadata": {},
   "source": [
    "### Baseline"
   ]
  },
  {
   "cell_type": "markdown",
   "id": "5c7dc0a6",
   "metadata": {},
   "source": [
    "### Iterate"
   ]
  },
  {
   "cell_type": "markdown",
   "id": "e4eb25e5",
   "metadata": {},
   "source": [
    "### Evaluate"
   ]
  },
  {
   "cell_type": "markdown",
   "id": "0be16278",
   "metadata": {},
   "source": [
    "# Communicate Results"
   ]
  },
  {
   "cell_type": "code",
   "execution_count": null,
   "id": "898409e9",
   "metadata": {},
   "outputs": [],
   "source": []
  },
  {
   "cell_type": "code",
   "execution_count": null,
   "id": "45c39309",
   "metadata": {},
   "outputs": [],
   "source": []
  },
  {
   "cell_type": "code",
   "execution_count": null,
   "id": "dbaf531f",
   "metadata": {},
   "outputs": [],
   "source": []
  },
  {
   "cell_type": "code",
   "execution_count": null,
   "id": "a0ec6f02",
   "metadata": {},
   "outputs": [],
   "source": []
  },
  {
   "cell_type": "code",
   "execution_count": null,
   "id": "6280b2b5",
   "metadata": {},
   "outputs": [],
   "source": []
  },
  {
   "cell_type": "code",
   "execution_count": null,
   "id": "c1cc7ad9",
   "metadata": {},
   "outputs": [],
   "source": []
  }
 ],
 "metadata": {
  "kernelspec": {
   "display_name": "Python 3 (ipykernel)",
   "language": "python",
   "name": "python3"
  },
  "language_info": {
   "codemirror_mode": {
    "name": "ipython",
    "version": 3
   },
   "file_extension": ".py",
   "mimetype": "text/x-python",
   "name": "python",
   "nbconvert_exporter": "python",
   "pygments_lexer": "ipython3",
   "version": "3.8.13"
  }
 },
 "nbformat": 4,
 "nbformat_minor": 5
}
